{
  "nbformat": 4,
  "nbformat_minor": 0,
  "metadata": {
    "colab": {
      "name": "CS114.K21.ipynb",
      "provenance": [],
      "authorship_tag": "ABX9TyPrxuPnjROymS5V3HAGTXtw",
      "include_colab_link": true
    },
    "kernelspec": {
      "name": "python3",
      "display_name": "Python 3"
    }
  },
  "cells": [
    {
      "cell_type": "markdown",
      "metadata": {
        "id": "view-in-github",
        "colab_type": "text"
      },
      "source": [
        "<a href=\"https://colab.research.google.com/github/tuananh11052000/CS114.K21/blob/master/CS114_K21.ipynb\" target=\"_parent\"><img src=\"https://colab.research.google.com/assets/colab-badge.svg\" alt=\"Open In Colab\"/></a>"
      ]
    },
    {
      "cell_type": "code",
      "metadata": {
        "id": "0R_OFshc-9OL",
        "colab_type": "code",
        "outputId": "4539bc03-1805-49c7-e48c-9bfd8e48a91b",
        "colab": {
          "base_uri": "https://localhost:8080/",
          "height": 283
        }
      },
      "source": [
        "import numpy as np  \n",
        "import matplotlib.pyplot as plt\n",
        "\n",
        "#import toàn bộ file univariate.txt\n",
        "x = np.loadtxt('univariate.txt', delimiter = ',')\n",
        "#import Theta từ file univariate_theta.txt\n",
        "Theta = np.loadtxt('univariate_theta.txt')\n",
        "y = np.copy(x[:,-1])\n",
        "x[:,-1] = x[:,0];\n",
        "x[:,0] = 1;\n",
        "z = x@Theta;\n",
        "predic = 10000*z;\n",
        "np.savetxt('new.txt', z, '%2f', ',');\n",
        "plt.plot(x[:,1:], y, 'rx');\n",
        "plt.plot(x[:,1:],predic/10000,'-b')"
      ],
      "execution_count": 13,
      "outputs": [
        {
          "output_type": "execute_result",
          "data": {
            "text/plain": [
              "[<matplotlib.lines.Line2D at 0x7f2334586278>]"
            ]
          },
          "metadata": {
            "tags": []
          },
          "execution_count": 13
        },
        {
          "output_type": "display_data",
          "data": {
            "image/png": "[encoded data removed]",
            "text/plain": [
              "<Figure size 432x288 with 1 Axes>"
            ]
          },
          "metadata": {
            "tags": []
          }
        }
      ]
    }
  ]
}
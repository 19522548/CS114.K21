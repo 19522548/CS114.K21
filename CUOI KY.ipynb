{
  "nbformat": 4,
  "nbformat_minor": 0,
  "metadata": {
    "colab": {
      "name": "Untitled25.ipynb",
      "provenance": [],
      "mount_file_id": "1b4kHjTzL3fH6kWTJn5b9yciy2JlYlick",
      "authorship_tag": "ABX9TyOiQwUg/6Rlrjka13fwIWlp",
      "include_colab_link": true
    },
    "kernelspec": {
      "name": "python3",
      "display_name": "Python 3"
    }
  },
  "cells": [
    {
      "cell_type": "markdown",
      "metadata": {
        "id": "view-in-github",
        "colab_type": "text"
      },
      "source": [
        "<a href=\"https://colab.research.google.com/github/tuananh11052000/CS114.K21/blob/master/CUOI%20KY.ipynb\" target=\"_parent\"><img src=\"https://colab.research.google.com/assets/colab-badge.svg\" alt=\"Open In Colab\"/></a>"
      ]
    },
    {
      "cell_type": "code",
      "metadata": {
        "id": "MwOtG_uwWLBS",
        "colab_type": "code",
        "colab": {}
      },
      "source": [
        "import numpy as np\n",
        "import skimage\n",
        "from skimage import feature\n",
        "from imutils import paths\n",
        "\n",
        "import random\n",
        "import cv2\n",
        "import h5py\n",
        "\n",
        "class HOG:\n",
        "    def __init__(self, orientations=12, pixelsPerCell=(4, 4), cellsPerBlock=(2, 2), normalize=True):\n",
        "        # store the number of orientations, pixels per cell, cells per block, and\n",
        "        # whether normalization should be applied to the image\n",
        "        self.orientations = orientations\n",
        "        self.pixelsPerCell = pixelsPerCell\n",
        "        self.cellsPerBlock = cellsPerBlock\n",
        "        self.normalize = normalize\n",
        "\n",
        "    def describe(self, image):\n",
        "        # compute Histogram of Oriented Gradients features for scikit-image < 0.13\n",
        "        if int(skimage.__version__.split(\".\")[1]) < 13:\n",
        "            \n",
        "            hist = feature.hog(image, orientations=self.orientations, pixels_per_cell=self.pixelsPerCell,\n",
        "                               cells_per_block=self.cellsPerBlock, transform_sqrt=self.normalize)\n",
        "\n",
        "        # otherwise comput Histogram of Oriented Gradients features for scikit-image >= 0.13\n",
        "        else:\n",
        "            hist = feature.hog(image, orientations=self.orientations, pixels_per_cell=self.pixelsPerCell,\n",
        "                               cells_per_block=self.cellsPerBlock, transform_sqrt=self.normalize, block_norm=\"L1\")\n",
        "\n",
        "        hist[hist < 0] = 0\n",
        "\n",
        "        # return the histogram\n",
        "        return hist\n",
        "# hàm lưu lại đặc trưng và nhãn vào 1 file\n"
      ],
      "execution_count": 0,
      "outputs": []
    },
    {
      "cell_type": "code",
      "metadata": {
        "id": "1aqMu8iRXTSw",
        "colab_type": "code",
        "colab": {}
      },
      "source": [
        "class PROJECT:\n",
        "    def save_featured_labels(data, labels, path, datasetName, writeMethod=\"w\"):\n",
        "        # open the database, create the dataset, write the data and labels to dataset,\n",
        "        # and then close the database\n",
        "        db = h5py.File(path, writeMethod)\n",
        "        dataset = db.create_dataset(datasetName, (len(data), len(data[0]) + 1), dtype=\"float\")\n",
        "        dataset[0:len(data)] = np.c_[labels, data]\n",
        "        db.close()\n",
        "    def load_dataset(path, datasetName):\n",
        "        # open the database, grab the labels and data, then close the dataset\n",
        "        db = h5py.File(path, \"r\")\n",
        "        (labels, data) = (db[datasetName][:, 0], db[datasetName][:, 1:])\n",
        "        db.close()\n",
        "\n",
        "        # return a tuple of the data and labels\n",
        "        return (data, labels)\n",
        "        arr_featured = []\n",
        "        arr_labels = []\n",
        "        #load dataset\n",
        "        trnPaths = list(paths.list_images(\"dataset\"))\n",
        "        trnPaths = random.sample(trnPaths, int(len(trnPaths)))\n",
        "        hog = HOG(orientations=12, pixelsPerCell=(4, 4), cellsPerBlock=(2, 2), normalize=True)\n",
        "        for i in trnPaths:\n",
        "            IMG = cv2.imread(i, 0)\n",
        "            IMG = cv2.resize(src=IMG, dsize=(232, 413))\n",
        "            featured = hog.describe(IMG)\n",
        "            imageID = i[i.rfind(\"_\") + 1:].replace(\".jpg\", \"\")\n",
        "            imageID = int(imageID)\n",
        "            arr_labels.append(int(imageID/20) + 1)\n",
        "            arr_featured.append(featured)\n",
        "        save_featured_labels(arr_featured, arr_labels, \"output/leaf/leaf_features.hdf5\",\"featured\")"
      ],
      "execution_count": 0,
      "outputs": []
    }
  ]
}
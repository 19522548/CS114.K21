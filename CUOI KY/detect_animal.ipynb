{
  "nbformat": 4,
  "nbformat_minor": 0,
  "metadata": {
    "colab": {
      "name": "detect_homan.ipynb",
      "provenance": [],
      "toc_visible": true,
      "authorship_tag": "ABX9TyOh2gEwYYTQhWss869Vwz2N",
      "include_colab_link": true
    },
    "kernelspec": {
      "name": "python3",
      "display_name": "Python 3"
    }
  },
  "cells": [
    {
      "cell_type": "markdown",
      "metadata": {
        "id": "view-in-github",
        "colab_type": "text"
      },
      "source": [
        "<a href=\"https://colab.research.google.com/github/tuananh11052000/CS114.K21/blob/master/CUOI%20KY/detect_animal.ipynb\" target=\"_parent\"><img src=\"https://colab.research.google.com/assets/colab-badge.svg\" alt=\"Open In Colab\"/></a>"
      ]
    },
    {
      "cell_type": "markdown",
      "metadata": {
        "id": "jK4PMMEx8Yex",
        "colab_type": "text"
      },
      "source": [
        "Kết nối với google driver để truy xuất dataset"
      ]
    },
    {
      "cell_type": "code",
      "metadata": {
        "id": "fI9j9yjALH0E",
        "colab_type": "code",
        "colab": {
          "base_uri": "https://localhost:8080/",
          "height": 138
        },
        "outputId": "e5717a16-c8b3-4a05-851e-58345a535273"
      },
      "source": [
        "from google.colab import drive\n",
        "drive.mount('/content/drive')"
      ],
      "execution_count": 1,
      "outputs": [
        {
          "output_type": "stream",
          "text": [
            "Go to this URL in a browser: https://accounts.google.com/o/oauth2/auth?client_id=947318989803-6bn6qk8qdgf4n4g3pfee6491hc0brc4i.apps.googleusercontent.com&redirect_uri=urn%3aietf%3awg%3aoauth%3a2.0%3aoob&scope=email%20https%3a%2f%2fwww.googleapis.com%2fauth%2fdocs.test%20https%3a%2f%2fwww.googleapis.com%2fauth%2fdrive%20https%3a%2f%2fwww.googleapis.com%2fauth%2fdrive.photos.readonly%20https%3a%2f%2fwww.googleapis.com%2fauth%2fpeopleapi.readonly&response_type=code\n",
            "\n",
            "Enter your authorization code:\n",
            "··········\n",
            "Mounted at /content/drive\n",
            "Drive already mounted at /content/drive; to attempt to forcibly remount, call drive.mount(\"/content/drive\", force_remount=True).\n"
          ],
          "name": "stdout"
        }
      ]
    },
    {
      "cell_type": "markdown",
      "metadata": {
        "id": "CRFtcWyX8g_U",
        "colab_type": "text"
      },
      "source": [
        "Import các thư viện cần thiết để sử dụng cho các shell tiếp theo"
      ]
    },
    {
      "cell_type": "code",
      "metadata": {
        "id": "964lfWZ5SDsr",
        "colab_type": "code",
        "colab": {}
      },
      "source": [
        "import glob\n",
        "import cv2\n",
        "import numpy as np\n",
        "import os\n",
        "import random\n",
        "import skimage\n",
        "from skimage import feature\n",
        "from sklearn.svm import SVC\n",
        "from sklearn.model_selection import train_test_split\n",
        "from google.colab.patches import cv2_imshow"
      ],
      "execution_count": 3,
      "outputs": []
    },
    {
      "cell_type": "markdown",
      "metadata": {
        "id": "y4_HsaVc8pSv",
        "colab_type": "text"
      },
      "source": [
        "Định nghĩa hàm HOG rút trích đặc trưng sử dụng trọng số truyền vào"
      ]
    },
    {
      "cell_type": "code",
      "metadata": {
        "id": "p-xX6upASqsU",
        "colab_type": "code",
        "colab": {}
      },
      "source": [
        "class HOG:\n",
        "    def __init__(self, orientations=12, pixelsPerCell=(2, 2), cellsPerBlock=(2, 2), normalize=True):\n",
        "        # store the number of orientations, pixels per cell, cells per block, and\n",
        "        # whether normalization should be applied to the image\n",
        "        self.orientations = orientations\n",
        "        self.pixelsPerCell = pixelsPerCell\n",
        "        self.cellsPerBlock = cellsPerBlock\n",
        "        self.normalize = normalize\n",
        "\n",
        "    def describe(self, image):\n",
        "        # compute Histogram of Oriented Gradients features for scikit-image < 0.13\n",
        "        if int(skimage.__version__.split(\".\")[1]) < 13:\n",
        "            \n",
        "            hist = feature.hog(image, orientations=self.orientations, pixels_per_cell=self.pixelsPerCell,\n",
        "                               cells_per_block=self.cellsPerBlock, transform_sqrt=self.normalize)\n",
        "\n",
        "        # otherwise comput Histogram of Oriented Gradients features for scikit-image >= 0.13\n",
        "        else:\n",
        "            hist = feature.hog(image, orientations=self.orientations, pixels_per_cell=self.pixelsPerCell,\n",
        "                               cells_per_block=self.cellsPerBlock, transform_sqrt=self.normalize, block_norm=\"L1\")\n",
        "\n",
        "        hist[hist < 0] = 0\n",
        "\n",
        "        # return the histogram\n",
        "        return hist"
      ],
      "execution_count": 4,
      "outputs": []
    },
    {
      "cell_type": "markdown",
      "metadata": {
        "id": "PjeRjgdY85bO",
        "colab_type": "text"
      },
      "source": [
        "\n",
        "\n",
        "*   Lấy liệu từ google driver\n",
        "*   Đọc ảnh và gán nhãn\n",
        "\n"
      ]
    },
    {
      "cell_type": "code",
      "metadata": {
        "id": "AdLjzKf0Mnvq",
        "colab_type": "code",
        "colab": {}
      },
      "source": [
        "datasetPaths = []\n",
        "labels = []\n",
        "data = []\n",
        "for linkimage in glob.iglob('/content/drive/My Drive/Colab Notebooks/detect_animal_gray/*/*.png', recursive=True):\n",
        "    datasetPaths.append(linkimage);\n",
        "random.shuffle(datasetPaths)\n",
        "for path in datasetPaths:\n",
        "  labels.append(path.split(os.path.sep)[-2])\n",
        "  img = cv2.imread(path, cv2.IMREAD_GRAYSCALE)\n",
        "  img = cv2.resize(img, (140, 110))\n",
        "  data.append(img)"
      ],
      "execution_count": 5,
      "outputs": []
    },
    {
      "cell_type": "markdown",
      "metadata": {
        "id": "K0Ud3VAx9OsA",
        "colab_type": "text"
      },
      "source": [
        "*   Chuyển nhãn về dạng số để phù hợp cho việc train model\n",
        "*   Trong bước này, ảnh không có động vật là 1\n",
        "*   Ảnh có động vật 0"
      ]
    },
    {
      "cell_type": "code",
      "metadata": {
        "id": "IzkMBE48p0HD",
        "colab_type": "code",
        "colab": {}
      },
      "source": [
        "from sklearn import preprocessing\n",
        "le = preprocessing.LabelEncoder()\n",
        "le.fit(labels)\n",
        "le.classes_\n",
        "lb = le.transform(labels)"
      ],
      "execution_count": 7,
      "outputs": []
    },
    {
      "cell_type": "markdown",
      "metadata": {
        "id": "gWYn-buku-Ho",
        "colab_type": "text"
      },
      "source": [
        "Sử dụng HOG để rút trích đặc trưng\n",
        "\n",
        "\n",
        "\n"
      ]
    },
    {
      "cell_type": "code",
      "metadata": {
        "id": "Bk-kJHx2kB_r",
        "colab_type": "code",
        "colab": {}
      },
      "source": [
        "features = []\n",
        "hog = HOG(orientations=12, pixelsPerCell=(4, 4), cellsPerBlock=(2, 2), normalize=True)\n",
        "for img in data:\n",
        "  features.append(hog.describe(img))"
      ],
      "execution_count": 8,
      "outputs": []
    },
    {
      "cell_type": "markdown",
      "metadata": {
        "id": "WHLWrAMbvIgc",
        "colab_type": "text"
      },
      "source": [
        "Chia bộ train test theo tỷ lệ 85-15"
      ]
    },
    {
      "cell_type": "code",
      "metadata": {
        "id": "RQCoUVSxnZZz",
        "colab_type": "code",
        "colab": {
          "base_uri": "https://localhost:8080/",
          "height": 50
        },
        "outputId": "620d3a0d-d3ff-4d9d-c2b0-078c272893ed"
      },
      "source": [
        "x_train, x_test, y_train, y_test = train_test_split(features, lb, test_size=0.15)\n",
        "count_0 = 0\n",
        "count_1 = 1\n",
        "for i in y_test:\n",
        "  if i == 0:\n",
        "    count_0 = count_0 + 1\n",
        "  else:\n",
        "    count_1 = count_1 + 1\n",
        "print(\"so luong nhan 0 la: \" + str(count_0))\n",
        "print(\"so luong nhan 1 la: \" + str(count_1))"
      ],
      "execution_count": 12,
      "outputs": [
        {
          "output_type": "stream",
          "text": [
            "so luong nhan 0 la: 73\n",
            "so luong nhan 1 la: 292\n"
          ],
          "name": "stdout"
        }
      ]
    },
    {
      "cell_type": "markdown",
      "metadata": {
        "id": "K4b6AA8m-8XU",
        "colab_type": "text"
      },
      "source": [
        "*   Tính toán các tham số phù hợp cho model.\n",
        "*   Sử dụng SVM để train trên bộ feature đã thu được.\n",
        "\n"
      ]
    },
    {
      "cell_type": "code",
      "metadata": {
        "id": "Qmut3aCdf3SP",
        "colab_type": "code",
        "colab": {
          "base_uri": "https://localhost:8080/",
          "height": 1000
        },
        "outputId": "7f0a41fe-c839-4037-c6cf-82535290d9c6"
      },
      "source": [
        "from sklearn.model_selection import GridSearchCV\n",
        "param_grid = { 'C':[0.01, 0.1, 1, 10],\n",
        "              'gamma': [1, 0.1, 0.01, 0.001],\n",
        "              'kernel':['linear']}\n",
        "grid = GridSearchCV(SVC(), param_grid, refit = True, verbose = 3)\n",
        "grid.fit(x_train, y_train)\n",
        "print(grid.best_params_)"
      ],
      "execution_count": null,
      "outputs": [
        {
          "output_type": "stream",
          "text": [
            "Fitting 5 folds for each of 16 candidates, totalling 80 fits\n",
            "[CV] C=0.01, gamma=1, kernel=linear ..................................\n"
          ],
          "name": "stdout"
        },
        {
          "output_type": "stream",
          "text": [
            "[Parallel(n_jobs=1)]: Using backend SequentialBackend with 1 concurrent workers.\n"
          ],
          "name": "stderr"
        },
        {
          "output_type": "stream",
          "text": [
            "[CV] ...... C=0.01, gamma=1, kernel=linear, score=0.988, total=  58.0s\n",
            "[CV] C=0.01, gamma=1, kernel=linear ..................................\n"
          ],
          "name": "stdout"
        },
        {
          "output_type": "stream",
          "text": [
            "[Parallel(n_jobs=1)]: Done   1 out of   1 | elapsed:   58.0s remaining:    0.0s\n"
          ],
          "name": "stderr"
        },
        {
          "output_type": "stream",
          "text": [
            "[CV] ...... C=0.01, gamma=1, kernel=linear, score=0.985, total=  57.1s\n",
            "[CV] C=0.01, gamma=1, kernel=linear ..................................\n"
          ],
          "name": "stdout"
        },
        {
          "output_type": "stream",
          "text": [
            "[Parallel(n_jobs=1)]: Done   2 out of   2 | elapsed:  1.9min remaining:    0.0s\n"
          ],
          "name": "stderr"
        },
        {
          "output_type": "stream",
          "text": [
            "[CV] ...... C=0.01, gamma=1, kernel=linear, score=0.995, total=  57.6s\n",
            "[CV] C=0.01, gamma=1, kernel=linear ..................................\n",
            "[CV] ...... C=0.01, gamma=1, kernel=linear, score=0.988, total=  54.3s\n",
            "[CV] C=0.01, gamma=1, kernel=linear ..................................\n",
            "[CV] ...... C=0.01, gamma=1, kernel=linear, score=0.990, total=  56.8s\n",
            "[CV] C=0.01, gamma=0.1, kernel=linear ................................\n",
            "[CV] .... C=0.01, gamma=0.1, kernel=linear, score=0.988, total=  57.8s\n",
            "[CV] C=0.01, gamma=0.1, kernel=linear ................................\n",
            "[CV] .... C=0.01, gamma=0.1, kernel=linear, score=0.985, total=  56.9s\n",
            "[CV] C=0.01, gamma=0.1, kernel=linear ................................\n",
            "[CV] .... C=0.01, gamma=0.1, kernel=linear, score=0.995, total=  57.6s\n",
            "[CV] C=0.01, gamma=0.1, kernel=linear ................................\n",
            "[CV] .... C=0.01, gamma=0.1, kernel=linear, score=0.988, total=  54.4s\n",
            "[CV] C=0.01, gamma=0.1, kernel=linear ................................\n",
            "[CV] .... C=0.01, gamma=0.1, kernel=linear, score=0.990, total=  57.0s\n",
            "[CV] C=0.01, gamma=0.01, kernel=linear ...............................\n",
            "[CV] ... C=0.01, gamma=0.01, kernel=linear, score=0.988, total=  57.8s\n",
            "[CV] C=0.01, gamma=0.01, kernel=linear ...............................\n",
            "[CV] ... C=0.01, gamma=0.01, kernel=linear, score=0.985, total=  57.0s\n",
            "[CV] C=0.01, gamma=0.01, kernel=linear ...............................\n",
            "[CV] ... C=0.01, gamma=0.01, kernel=linear, score=0.995, total=  57.8s\n",
            "[CV] C=0.01, gamma=0.01, kernel=linear ...............................\n",
            "[CV] ... C=0.01, gamma=0.01, kernel=linear, score=0.988, total=  54.4s\n",
            "[CV] C=0.01, gamma=0.01, kernel=linear ...............................\n",
            "[CV] ... C=0.01, gamma=0.01, kernel=linear, score=0.990, total=  56.8s\n",
            "[CV] C=0.01, gamma=0.001, kernel=linear ..............................\n",
            "[CV] .. C=0.01, gamma=0.001, kernel=linear, score=0.988, total=  57.9s\n",
            "[CV] C=0.01, gamma=0.001, kernel=linear ..............................\n",
            "[CV] .. C=0.01, gamma=0.001, kernel=linear, score=0.985, total=  56.9s\n",
            "[CV] C=0.01, gamma=0.001, kernel=linear ..............................\n",
            "[CV] .. C=0.01, gamma=0.001, kernel=linear, score=0.995, total=  57.7s\n",
            "[CV] C=0.01, gamma=0.001, kernel=linear ..............................\n",
            "[CV] .. C=0.01, gamma=0.001, kernel=linear, score=0.988, total=  54.3s\n",
            "[CV] C=0.01, gamma=0.001, kernel=linear ..............................\n",
            "[CV] .. C=0.01, gamma=0.001, kernel=linear, score=0.990, total=  56.8s\n",
            "[CV] C=0.1, gamma=1, kernel=linear ...................................\n",
            "[CV] ....... C=0.1, gamma=1, kernel=linear, score=0.993, total=  53.9s\n",
            "[CV] C=0.1, gamma=1, kernel=linear ...................................\n",
            "[CV] ....... C=0.1, gamma=1, kernel=linear, score=0.985, total=  51.4s\n",
            "[CV] C=0.1, gamma=1, kernel=linear ...................................\n",
            "[CV] ....... C=0.1, gamma=1, kernel=linear, score=0.998, total=  54.4s\n",
            "[CV] C=0.1, gamma=1, kernel=linear ...................................\n",
            "[CV] ....... C=0.1, gamma=1, kernel=linear, score=0.995, total=  52.3s\n",
            "[CV] C=0.1, gamma=1, kernel=linear ...................................\n",
            "[CV] ....... C=0.1, gamma=1, kernel=linear, score=0.993, total=  53.8s\n",
            "[CV] C=0.1, gamma=0.1, kernel=linear .................................\n",
            "[CV] ..... C=0.1, gamma=0.1, kernel=linear, score=0.993, total=  53.9s\n",
            "[CV] C=0.1, gamma=0.1, kernel=linear .................................\n",
            "[CV] ..... C=0.1, gamma=0.1, kernel=linear, score=0.985, total=  51.1s\n",
            "[CV] C=0.1, gamma=0.1, kernel=linear .................................\n",
            "[CV] ..... C=0.1, gamma=0.1, kernel=linear, score=0.998, total=  54.4s\n",
            "[CV] C=0.1, gamma=0.1, kernel=linear .................................\n",
            "[CV] ..... C=0.1, gamma=0.1, kernel=linear, score=0.995, total=  52.2s\n",
            "[CV] C=0.1, gamma=0.1, kernel=linear .................................\n",
            "[CV] ..... C=0.1, gamma=0.1, kernel=linear, score=0.993, total=  53.8s\n",
            "[CV] C=0.1, gamma=0.01, kernel=linear ................................\n",
            "[CV] .... C=0.1, gamma=0.01, kernel=linear, score=0.993, total=  54.0s\n",
            "[CV] C=0.1, gamma=0.01, kernel=linear ................................\n",
            "[CV] .... C=0.1, gamma=0.01, kernel=linear, score=0.985, total=  51.1s\n",
            "[CV] C=0.1, gamma=0.01, kernel=linear ................................\n",
            "[CV] .... C=0.1, gamma=0.01, kernel=linear, score=0.998, total=  54.3s\n",
            "[CV] C=0.1, gamma=0.01, kernel=linear ................................\n",
            "[CV] .... C=0.1, gamma=0.01, kernel=linear, score=0.995, total=  52.3s\n",
            "[CV] C=0.1, gamma=0.01, kernel=linear ................................\n",
            "[CV] .... C=0.1, gamma=0.01, kernel=linear, score=0.993, total=  53.9s\n",
            "[CV] C=0.1, gamma=0.001, kernel=linear ...............................\n",
            "[CV] ... C=0.1, gamma=0.001, kernel=linear, score=0.993, total=  53.9s\n",
            "[CV] C=0.1, gamma=0.001, kernel=linear ...............................\n",
            "[CV] ... C=0.1, gamma=0.001, kernel=linear, score=0.985, total=  51.4s\n",
            "[CV] C=0.1, gamma=0.001, kernel=linear ...............................\n",
            "[CV] ... C=0.1, gamma=0.001, kernel=linear, score=0.998, total=  54.3s\n",
            "[CV] C=0.1, gamma=0.001, kernel=linear ...............................\n",
            "[CV] ... C=0.1, gamma=0.001, kernel=linear, score=0.995, total=  52.3s\n",
            "[CV] C=0.1, gamma=0.001, kernel=linear ...............................\n",
            "[CV] ... C=0.1, gamma=0.001, kernel=linear, score=0.993, total=  53.8s\n",
            "[CV] C=1, gamma=1, kernel=linear .....................................\n",
            "[CV] ......... C=1, gamma=1, kernel=linear, score=0.993, total=  54.0s\n",
            "[CV] C=1, gamma=1, kernel=linear .....................................\n",
            "[CV] ......... C=1, gamma=1, kernel=linear, score=0.985, total=  51.1s\n",
            "[CV] C=1, gamma=1, kernel=linear .....................................\n",
            "[CV] ......... C=1, gamma=1, kernel=linear, score=0.998, total=  54.4s\n",
            "[CV] C=1, gamma=1, kernel=linear .....................................\n",
            "[CV] ......... C=1, gamma=1, kernel=linear, score=0.995, total=  52.3s\n",
            "[CV] C=1, gamma=1, kernel=linear .....................................\n",
            "[CV] ......... C=1, gamma=1, kernel=linear, score=0.993, total=  53.8s\n",
            "[CV] C=1, gamma=0.1, kernel=linear ...................................\n",
            "[CV] ....... C=1, gamma=0.1, kernel=linear, score=0.993, total=  54.0s\n",
            "[CV] C=1, gamma=0.1, kernel=linear ...................................\n",
            "[CV] ....... C=1, gamma=0.1, kernel=linear, score=0.985, total=  51.1s\n",
            "[CV] C=1, gamma=0.1, kernel=linear ...................................\n",
            "[CV] ....... C=1, gamma=0.1, kernel=linear, score=0.998, total=  54.8s\n",
            "[CV] C=1, gamma=0.1, kernel=linear ...................................\n",
            "[CV] ....... C=1, gamma=0.1, kernel=linear, score=0.995, total=  52.3s\n",
            "[CV] C=1, gamma=0.1, kernel=linear ...................................\n",
            "[CV] ....... C=1, gamma=0.1, kernel=linear, score=0.993, total=  53.8s\n",
            "[CV] C=1, gamma=0.01, kernel=linear ..................................\n",
            "[CV] ...... C=1, gamma=0.01, kernel=linear, score=0.993, total=  54.0s\n",
            "[CV] C=1, gamma=0.01, kernel=linear ..................................\n",
            "[CV] ...... C=1, gamma=0.01, kernel=linear, score=0.985, total=  51.1s\n",
            "[CV] C=1, gamma=0.01, kernel=linear ..................................\n",
            "[CV] ...... C=1, gamma=0.01, kernel=linear, score=0.998, total=  54.6s\n",
            "[CV] C=1, gamma=0.01, kernel=linear ..................................\n",
            "[CV] ...... C=1, gamma=0.01, kernel=linear, score=0.995, total=  52.5s\n",
            "[CV] C=1, gamma=0.01, kernel=linear ..................................\n",
            "[CV] ...... C=1, gamma=0.01, kernel=linear, score=0.993, total=  53.9s\n",
            "[CV] C=1, gamma=0.001, kernel=linear .................................\n",
            "[CV] ..... C=1, gamma=0.001, kernel=linear, score=0.993, total=  54.1s\n",
            "[CV] C=1, gamma=0.001, kernel=linear .................................\n",
            "[CV] ..... C=1, gamma=0.001, kernel=linear, score=0.985, total=  51.3s\n",
            "[CV] C=1, gamma=0.001, kernel=linear .................................\n",
            "[CV] ..... C=1, gamma=0.001, kernel=linear, score=0.998, total=  54.5s\n",
            "[CV] C=1, gamma=0.001, kernel=linear .................................\n",
            "[CV] ..... C=1, gamma=0.001, kernel=linear, score=0.995, total=  52.3s\n",
            "[CV] C=1, gamma=0.001, kernel=linear .................................\n",
            "[CV] ..... C=1, gamma=0.001, kernel=linear, score=0.993, total=  54.0s\n",
            "[CV] C=10, gamma=1, kernel=linear ....................................\n",
            "[CV] ........ C=10, gamma=1, kernel=linear, score=0.993, total=  54.1s\n",
            "[CV] C=10, gamma=1, kernel=linear ....................................\n",
            "[CV] ........ C=10, gamma=1, kernel=linear, score=0.985, total=  51.2s\n",
            "[CV] C=10, gamma=1, kernel=linear ....................................\n",
            "[CV] ........ C=10, gamma=1, kernel=linear, score=0.998, total=  54.4s\n",
            "[CV] C=10, gamma=1, kernel=linear ....................................\n",
            "[CV] ........ C=10, gamma=1, kernel=linear, score=0.995, total=  52.4s\n",
            "[CV] C=10, gamma=1, kernel=linear ....................................\n",
            "[CV] ........ C=10, gamma=1, kernel=linear, score=0.993, total=  53.9s\n",
            "[CV] C=10, gamma=0.1, kernel=linear ..................................\n",
            "[CV] ...... C=10, gamma=0.1, kernel=linear, score=0.993, total=  54.0s\n",
            "[CV] C=10, gamma=0.1, kernel=linear ..................................\n",
            "[CV] ...... C=10, gamma=0.1, kernel=linear, score=0.985, total=  51.2s\n",
            "[CV] C=10, gamma=0.1, kernel=linear ..................................\n",
            "[CV] ...... C=10, gamma=0.1, kernel=linear, score=0.998, total=  54.5s\n",
            "[CV] C=10, gamma=0.1, kernel=linear ..................................\n",
            "[CV] ...... C=10, gamma=0.1, kernel=linear, score=0.995, total=  52.5s\n",
            "[CV] C=10, gamma=0.1, kernel=linear ..................................\n",
            "[CV] ...... C=10, gamma=0.1, kernel=linear, score=0.993, total=  54.1s\n",
            "[CV] C=10, gamma=0.01, kernel=linear .................................\n",
            "[CV] ..... C=10, gamma=0.01, kernel=linear, score=0.993, total=  54.1s\n",
            "[CV] C=10, gamma=0.01, kernel=linear .................................\n",
            "[CV] ..... C=10, gamma=0.01, kernel=linear, score=0.985, total=  51.0s\n",
            "[CV] C=10, gamma=0.01, kernel=linear .................................\n",
            "[CV] ..... C=10, gamma=0.01, kernel=linear, score=0.998, total=  54.3s\n",
            "[CV] C=10, gamma=0.01, kernel=linear .................................\n",
            "[CV] ..... C=10, gamma=0.01, kernel=linear, score=0.995, total=  52.2s\n",
            "[CV] C=10, gamma=0.01, kernel=linear .................................\n",
            "[CV] ..... C=10, gamma=0.01, kernel=linear, score=0.993, total=  53.8s\n",
            "[CV] C=10, gamma=0.001, kernel=linear ................................\n",
            "[CV] .... C=10, gamma=0.001, kernel=linear, score=0.993, total=  53.9s\n",
            "[CV] C=10, gamma=0.001, kernel=linear ................................\n",
            "[CV] .... C=10, gamma=0.001, kernel=linear, score=0.985, total=  51.1s\n",
            "[CV] C=10, gamma=0.001, kernel=linear ................................\n",
            "[CV] .... C=10, gamma=0.001, kernel=linear, score=0.998, total=  54.3s\n",
            "[CV] C=10, gamma=0.001, kernel=linear ................................\n",
            "[CV] .... C=10, gamma=0.001, kernel=linear, score=0.995, total=  52.3s\n",
            "[CV] C=10, gamma=0.001, kernel=linear ................................\n",
            "[CV] .... C=10, gamma=0.001, kernel=linear, score=0.993, total=  53.7s\n"
          ],
          "name": "stdout"
        },
        {
          "output_type": "stream",
          "text": [
            "[Parallel(n_jobs=1)]: Done  80 out of  80 | elapsed: 72.1min finished\n"
          ],
          "name": "stderr"
        },
        {
          "output_type": "stream",
          "text": [
            "{'C': 0.1, 'gamma': 1, 'kernel': 'linear'}\n"
          ],
          "name": "stdout"
        }
      ]
    },
    {
      "cell_type": "code",
      "metadata": {
        "id": "cRsECp_RosuR",
        "colab_type": "code",
        "colab": {
          "base_uri": "https://localhost:8080/",
          "height": 84
        },
        "outputId": "905b002c-6f53-4947-caea-aeb86e44098f"
      },
      "source": [
        "model = SVC(kernel=\"linear\", C = 0.1, gamma = 1, probability=False, random_state=42)\n",
        "model.fit(x_train, y_train)"
      ],
      "execution_count": 13,
      "outputs": [
        {
          "output_type": "execute_result",
          "data": {
            "text/plain": [
              "SVC(C=0.1, break_ties=False, cache_size=200, class_weight=None, coef0=0.0,\n",
              "    decision_function_shape='ovr', degree=3, gamma=1, kernel='linear',\n",
              "    max_iter=-1, probability=False, random_state=42, shrinking=True, tol=0.001,\n",
              "    verbose=False)"
            ]
          },
          "metadata": {
            "tags": []
          },
          "execution_count": 13
        }
      ]
    },
    {
      "cell_type": "markdown",
      "metadata": {
        "id": "QGUUJcylhD91",
        "colab_type": "text"
      },
      "source": [
        "Đánh giá model"
      ]
    },
    {
      "cell_type": "code",
      "metadata": {
        "id": "G-KQIjhivkEQ",
        "colab_type": "code",
        "colab": {
          "base_uri": "https://localhost:8080/",
          "height": 34
        },
        "outputId": "5aea413c-5ab0-4ca9-b6ca-b4bb2339afce"
      },
      "source": [
        "from sklearn.metrics import accuracy_score\n",
        "pred = model.predict(x_test)\n",
        "print('acc: ', accuracy_score(pred, y_test))"
      ],
      "execution_count": 14,
      "outputs": [
        {
          "output_type": "stream",
          "text": [
            "acc:  0.9917582417582418\n"
          ],
          "name": "stdout"
        }
      ]
    },
    {
      "cell_type": "code",
      "metadata": {
        "id": "8U21oZg4hHmd",
        "colab_type": "code",
        "colab": {
          "base_uri": "https://localhost:8080/",
          "height": 168
        },
        "outputId": "b1d142ec-bab4-4e88-82fb-f41a705037d4"
      },
      "source": [
        "from sklearn.metrics import classification_report\n",
        "target_names = ['class 0', 'class 1']\n",
        "print(classification_report(y_test, pred, target_names = target_names))"
      ],
      "execution_count": null,
      "outputs": [
        {
          "output_type": "stream",
          "text": [
            "              precision    recall  f1-score   support\n",
            "\n",
            "     class 0       1.00      0.99      0.99        69\n",
            "     class 1       1.00      1.00      1.00       295\n",
            "\n",
            "    accuracy                           1.00       364\n",
            "   macro avg       1.00      0.99      1.00       364\n",
            "weighted avg       1.00      1.00      1.00       364\n",
            "\n"
          ],
          "name": "stdout"
        }
      ]
    },
    {
      "cell_type": "code",
      "metadata": {
        "id": "5M6kUZOkx8BW",
        "colab_type": "code",
        "colab": {}
      },
      "source": [
        "IMG_PATH = '1.jpg'\n",
        "# read image\n",
        "img = cv2.imread(IMG_PATH, cv2.IMREAD_GRAYSCALE)\n",
        "heigh, width = img.shape\n",
        "ratio = heigh/width;\n",
        "for i in range(3):\n",
        "  new_width = 300 + i*100;\n",
        "  new_heigh = int(new_width * ratio);\n",
        "  img_resize = cv2.resize(img, (new_width, new_heigh))\n",
        "  img_resize = cv2.blur(img_resize, ksize=(2, 2))\n",
        "  cv2_imshow(img_resize)\n",
        "  x = 0\n",
        "  pred=0\n",
        "  while(x + 110 <= new_heigh):\n",
        "    y = 0\n",
        "    while(y + 140 <= new_width):\n",
        "      wd = img_resize[x:x+110, y:y+140]\n",
        "      wd = cv2.resize(wd, (140, 110))\n",
        "      temp1 = hog.describe(wd)\n",
        "      temp = model.predict([temp1])\n",
        "      if temp == [0]:\n",
        "        pred = 1\n",
        "        cv2_imshow(wd)\n",
        "        print(temp)\n",
        "      y = y + 5\n",
        "    x = x + 5\n",
        "print(pred);"
      ],
      "execution_count": null,
      "outputs": []
    },
    {
      "cell_type": "markdown",
      "metadata": {
        "id": "s-9cbU2vpiol",
        "colab_type": "text"
      },
      "source": [
        "# Sử dụng KNN\n"
      ]
    },
    {
      "cell_type": "code",
      "metadata": {
        "id": "RkBgpI9HomWh",
        "colab_type": "code",
        "colab": {
          "base_uri": "https://localhost:8080/",
          "height": 67
        },
        "outputId": "1a8afeae-18ed-4f08-8147-cdf3f0fb3656"
      },
      "source": [
        "from sklearn import neighbors, datasets\n",
        "clf = neighbors.KNeighborsClassifier(n_neighbors = 5, p = 1)\n",
        "clf.fit(x_train, y_train)"
      ],
      "execution_count": 16,
      "outputs": [
        {
          "output_type": "execute_result",
          "data": {
            "text/plain": [
              "KNeighborsClassifier(algorithm='auto', leaf_size=30, metric='minkowski',\n",
              "                     metric_params=None, n_jobs=None, n_neighbors=5, p=1,\n",
              "                     weights='uniform')"
            ]
          },
          "metadata": {
            "tags": []
          },
          "execution_count": 16
        }
      ]
    },
    {
      "cell_type": "code",
      "metadata": {
        "id": "zL9qeJ47poL3",
        "colab_type": "code",
        "colab": {
          "base_uri": "https://localhost:8080/",
          "height": 34
        },
        "outputId": "08b14e4e-2179-48f3-a205-15aba86cf41c"
      },
      "source": [
        "from sklearn.metrics import accuracy_score\n",
        "pred = clf.predict(x_test)\n",
        "print('acc: ', accuracy_score(pred, y_test))"
      ],
      "execution_count": 17,
      "outputs": [
        {
          "output_type": "stream",
          "text": [
            "acc:  0.8186813186813187\n"
          ],
          "name": "stdout"
        }
      ]
    }
  ]
}
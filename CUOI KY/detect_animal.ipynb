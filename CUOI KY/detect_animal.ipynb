{
  "nbformat": 4,
  "nbformat_minor": 0,
  "metadata": {
    "colab": {
      "name": "detect_homan.ipynb",
      "provenance": [],
      "authorship_tag": "ABX9TyN2jZacQ0E5zup2W2KXmS5D",
      "include_colab_link": true
    },
    "kernelspec": {
      "name": "python3",
      "display_name": "Python 3"
    }
  },
  "cells": [
    {
      "cell_type": "markdown",
      "metadata": {
        "id": "view-in-github",
        "colab_type": "text"
      },
      "source": [
        "<a href=\"https://colab.research.google.com/github/tuananh11052000/CS114.K21/blob/master/CUOI%20KY/detect_animal.ipynb\" target=\"_parent\"><img src=\"https://colab.research.google.com/assets/colab-badge.svg\" alt=\"Open In Colab\"/></a>"
      ]
    },
    {
      "cell_type": "markdown",
      "metadata": {
        "id": "jK4PMMEx8Yex",
        "colab_type": "text"
      },
      "source": [
        "Kết nối với google driver để truy xuất dataset"
      ]
    },
    {
      "cell_type": "code",
      "metadata": {
        "id": "fI9j9yjALH0E",
        "colab_type": "code",
        "colab": {
          "base_uri": "https://localhost:8080/",
          "height": 121
        },
        "outputId": "8e4d07c0-4f5a-4f02-814e-58655dc03fd0"
      },
      "source": [
        "from google.colab import drive\n",
        "drive.mount('/content/drive')"
      ],
      "execution_count": 1,
      "outputs": [
        {
          "output_type": "stream",
          "text": [
            "Go to this URL in a browser: https://accounts.google.com/o/oauth2/auth?client_id=947318989803-6bn6qk8qdgf4n4g3pfee6491hc0brc4i.apps.googleusercontent.com&redirect_uri=urn%3aietf%3awg%3aoauth%3a2.0%3aoob&response_type=code&scope=email%20https%3a%2f%2fwww.googleapis.com%2fauth%2fdocs.test%20https%3a%2f%2fwww.googleapis.com%2fauth%2fdrive%20https%3a%2f%2fwww.googleapis.com%2fauth%2fdrive.photos.readonly%20https%3a%2f%2fwww.googleapis.com%2fauth%2fpeopleapi.readonly\n",
            "\n",
            "Enter your authorization code:\n",
            "··········\n",
            "Mounted at /content/drive\n"
          ],
          "name": "stdout"
        }
      ]
    },
    {
      "cell_type": "markdown",
      "metadata": {
        "id": "CRFtcWyX8g_U",
        "colab_type": "text"
      },
      "source": [
        "Import các thư viện cần thiết để sử dụng cho các shell tiếp theo"
      ]
    },
    {
      "cell_type": "code",
      "metadata": {
        "id": "964lfWZ5SDsr",
        "colab_type": "code",
        "colab": {}
      },
      "source": [
        "import glob\n",
        "import cv2\n",
        "import numpy as np\n",
        "import os\n",
        "import random\n",
        "import skimage\n",
        "from skimage import feature\n",
        "from sklearn.svm import SVC\n",
        "from sklearn.model_selection import train_test_split\n",
        "from google.colab.patches import cv2_imshow"
      ],
      "execution_count": 2,
      "outputs": []
    },
    {
      "cell_type": "markdown",
      "metadata": {
        "id": "y4_HsaVc8pSv",
        "colab_type": "text"
      },
      "source": [
        "Định nghĩa hàm HOG rút trích đặc trưng sử dụng trọng số truyền vào"
      ]
    },
    {
      "cell_type": "code",
      "metadata": {
        "id": "p-xX6upASqsU",
        "colab_type": "code",
        "colab": {}
      },
      "source": [
        "class HOG:\n",
        "    def __init__(self, orientations=12, pixelsPerCell=(2, 2), cellsPerBlock=(2, 2), normalize=True):\n",
        "        # store the number of orientations, pixels per cell, cells per block, and\n",
        "        # whether normalization should be applied to the image\n",
        "        self.orientations = orientations\n",
        "        self.pixelsPerCell = pixelsPerCell\n",
        "        self.cellsPerBlock = cellsPerBlock\n",
        "        self.normalize = normalize\n",
        "\n",
        "    def describe(self, image):\n",
        "        # compute Histogram of Oriented Gradients features for scikit-image < 0.13\n",
        "        if int(skimage.__version__.split(\".\")[1]) < 13:\n",
        "            \n",
        "            hist = feature.hog(image, orientations=self.orientations, pixels_per_cell=self.pixelsPerCell,\n",
        "                               cells_per_block=self.cellsPerBlock, transform_sqrt=self.normalize)\n",
        "\n",
        "        # otherwise comput Histogram of Oriented Gradients features for scikit-image >= 0.13\n",
        "        else:\n",
        "            hist = feature.hog(image, orientations=self.orientations, pixels_per_cell=self.pixelsPerCell,\n",
        "                               cells_per_block=self.cellsPerBlock, transform_sqrt=self.normalize, block_norm=\"L1\")\n",
        "\n",
        "        hist[hist < 0] = 0\n",
        "\n",
        "        # return the histogram\n",
        "        return hist"
      ],
      "execution_count": 3,
      "outputs": []
    },
    {
      "cell_type": "markdown",
      "metadata": {
        "id": "PjeRjgdY85bO",
        "colab_type": "text"
      },
      "source": [
        "\n",
        "\n",
        "*   Đọc dữ liệu từ google driver\n",
        "*   Đọc ảnh và gán nhãn\n",
        "\n"
      ]
    },
    {
      "cell_type": "code",
      "metadata": {
        "id": "AdLjzKf0Mnvq",
        "colab_type": "code",
        "colab": {}
      },
      "source": [
        "datasetPaths = []\n",
        "labels = []\n",
        "data = []\n",
        "for linkimage in glob.iglob('/content/drive/My Drive/Colab Notebooks/detect_animal_gray/*/*.png', recursive=True):\n",
        "    datasetPaths.append(linkimage);\n",
        "random.shuffle(datasetPaths)\n",
        "for path in datasetPaths:\n",
        "  labels.append(path.split(os.path.sep)[-2])\n",
        "  img = cv2.imread(path, cv2.IMREAD_GRAYSCALE)\n",
        "  img = cv2.resize(img, (140, 110))\n",
        "  img = cv2.blur(img, ksize=(2, 2))\n",
        "  data.append(img)"
      ],
      "execution_count": 4,
      "outputs": []
    },
    {
      "cell_type": "markdown",
      "metadata": {
        "id": "K0Ud3VAx9OsA",
        "colab_type": "text"
      },
      "source": [
        "*   Chuyển nhãn về dạng số để phù hợp cho việc train model\n",
        "*   Trong bước này, ảnh không có động vật là 1\n",
        "*   Ảnh có động vật 0"
      ]
    },
    {
      "cell_type": "code",
      "metadata": {
        "id": "IzkMBE48p0HD",
        "colab_type": "code",
        "colab": {}
      },
      "source": [
        "from sklearn import preprocessing\n",
        "le = preprocessing.LabelEncoder()\n",
        "le.fit(labels)\n",
        "le.classes_\n",
        "lb = le.transform(labels)"
      ],
      "execution_count": 5,
      "outputs": []
    },
    {
      "cell_type": "code",
      "metadata": {
        "id": "oUUX8MQnj1ZL",
        "colab_type": "code",
        "colab": {
          "base_uri": "https://localhost:8080/",
          "height": 70
        },
        "outputId": "98cb90d6-70a7-42ac-a451-d824b0716157"
      },
      "source": [
        "print(labels)\n",
        "print(lb)"
      ],
      "execution_count": 6,
      "outputs": [
        {
          "output_type": "stream",
          "text": [
            "['non_animal', 'non_animal', 'non_animal', 'non_animal', 'non_animal', 'non_animal', 'non_animal', 'animal', 'non_animal', 'non_animal', 'non_animal', 'animal', 'animal', 'animal', 'non_animal', 'non_animal', 'non_animal', 'non_animal', 'non_animal', 'non_animal', 'non_animal', 'non_animal', 'animal', 'non_animal', 'non_animal', 'non_animal', 'non_animal', 'non_animal', 'non_animal', 'animal', 'non_animal', 'non_animal', 'animal', 'non_animal', 'animal', 'non_animal', 'non_animal', 'non_animal', 'animal', 'non_animal', 'non_animal', 'non_animal', 'non_animal', 'non_animal', 'non_animal', 'animal', 'animal', 'animal', 'non_animal', 'animal', 'non_animal', 'non_animal', 'non_animal', 'animal', 'non_animal', 'non_animal', 'non_animal', 'animal', 'animal', 'animal', 'non_animal', 'non_animal', 'non_animal', 'non_animal', 'non_animal', 'non_animal', 'non_animal', 'non_animal', 'non_animal', 'non_animal', 'animal', 'non_animal', 'non_animal', 'non_animal', 'non_animal', 'non_animal', 'non_animal', 'non_animal', 'animal', 'animal', 'non_animal', 'non_animal', 'non_animal', 'non_animal', 'non_animal', 'animal', 'animal', 'animal', 'non_animal', 'animal', 'non_animal', 'non_animal', 'animal', 'non_animal', 'non_animal', 'animal', 'non_animal', 'non_animal', 'non_animal', 'animal', 'non_animal', 'non_animal', 'non_animal', 'animal', 'animal', 'non_animal', 'non_animal', 'non_animal', 'non_animal', 'animal', 'animal', 'animal', 'non_animal', 'non_animal', 'non_animal', 'non_animal', 'non_animal', 'non_animal', 'non_animal', 'non_animal', 'non_animal', 'animal', 'non_animal', 'non_animal', 'non_animal', 'non_animal', 'non_animal', 'non_animal', 'non_animal', 'non_animal', 'animal', 'non_animal', 'non_animal', 'non_animal', 'animal', 'non_animal', 'non_animal', 'non_animal', 'non_animal', 'non_animal', 'non_animal', 'animal', 'non_animal', 'non_animal', 'non_animal', 'non_animal', 'non_animal', 'animal', 'non_animal', 'non_animal', 'non_animal', 'non_animal', 'animal', 'animal', 'non_animal', 'non_animal', 'non_animal', 'non_animal', 'non_animal', 'non_animal', 'animal', 'non_animal', 'non_animal', 'non_animal', 'non_animal', 'non_animal', 'animal', 'non_animal', 'non_animal', 'non_animal', 'non_animal', 'non_animal', 'animal', 'non_animal', 'animal', 'non_animal', 'animal', 'non_animal', 'animal', 'animal', 'non_animal', 'non_animal', 'non_animal', 'non_animal', 'animal', 'non_animal', 'non_animal', 'non_animal', 'non_animal', 'non_animal', 'animal', 'non_animal', 'non_animal', 'non_animal', 'non_animal', 'non_animal', 'non_animal', 'non_animal', 'non_animal', 'non_animal', 'animal', 'non_animal', 'non_animal', 'animal', 'non_animal', 'non_animal', 'non_animal', 'non_animal', 'non_animal', 'non_animal', 'non_animal', 'animal', 'non_animal', 'non_animal', 'non_animal', 'non_animal', 'non_animal', 'non_animal', 'non_animal', 'non_animal', 'non_animal', 'animal', 'non_animal', 'non_animal', 'non_animal', 'animal', 'non_animal', 'non_animal', 'animal', 'non_animal', 'non_animal', 'non_animal', 'non_animal', 'non_animal', 'animal', 'non_animal', 'non_animal', 'non_animal', 'non_animal', 'non_animal', 'non_animal', 'non_animal', 'non_animal', 'non_animal', 'animal', 'non_animal', 'non_animal', 'non_animal', 'non_animal', 'non_animal', 'non_animal', 'animal', 'non_animal', 'animal', 'non_animal', 'non_animal', 'non_animal', 'non_animal', 'non_animal', 'non_animal', 'animal', 'non_animal', 'non_animal', 'non_animal', 'animal', 'non_animal', 'non_animal', 'non_animal', 'animal', 'non_animal', 'non_animal', 'animal', 'non_animal', 'animal', 'non_animal', 'non_animal', 'non_animal', 'animal', 'non_animal', 'non_animal', 'non_animal', 'non_animal', 'animal', 'non_animal', 'animal', 'non_animal', 'non_animal', 'non_animal', 'non_animal', 'non_animal', 'animal', 'non_animal', 'non_animal', 'non_animal', 'animal', 'non_animal', 'non_animal', 'non_animal', 'non_animal', 'animal', 'non_animal', 'non_animal', 'animal', 'non_animal', 'non_animal', 'non_animal', 'animal', 'non_animal', 'non_animal', 'non_animal', 'non_animal', 'non_animal', 'non_animal', 'non_animal', 'animal', 'animal', 'non_animal', 'animal', 'non_animal', 'non_animal', 'non_animal', 'non_animal', 'animal', 'non_animal', 'non_animal', 'non_animal', 'animal', 'non_animal', 'non_animal', 'non_animal', 'animal', 'animal', 'animal', 'non_animal', 'non_animal', 'animal', 'non_animal', 'non_animal', 'non_animal', 'non_animal', 'animal', 'non_animal', 'non_animal', 'animal', 'non_animal', 'animal', 'non_animal', 'non_animal', 'non_animal', 'non_animal', 'non_animal', 'animal', 'non_animal', 'non_animal', 'non_animal', 'non_animal', 'non_animal', 'non_animal', 'non_animal', 'non_animal', 'non_animal', 'non_animal', 'non_animal', 'non_animal', 'non_animal', 'non_animal', 'non_animal', 'non_animal', 'non_animal', 'non_animal', 'animal', 'animal', 'non_animal', 'animal', 'non_animal', 'non_animal', 'non_animal', 'non_animal', 'animal', 'animal', 'non_animal', 'non_animal', 'animal', 'animal', 'non_animal', 'non_animal', 'non_animal', 'non_animal', 'non_animal', 'non_animal', 'non_animal', 'animal', 'non_animal', 'non_animal', 'non_animal', 'non_animal', 'non_animal', 'animal', 'non_animal', 'non_animal', 'animal', 'non_animal', 'non_animal', 'animal', 'animal', 'non_animal', 'non_animal', 'animal', 'non_animal', 'non_animal', 'non_animal', 'non_animal', 'non_animal', 'non_animal', 'non_animal', 'animal', 'non_animal', 'animal', 'non_animal', 'non_animal', 'non_animal', 'non_animal', 'non_animal', 'non_animal', 'non_animal', 'non_animal', 'non_animal', 'non_animal', 'animal', 'non_animal', 'non_animal', 'animal', 'non_animal', 'non_animal', 'non_animal', 'non_animal', 'non_animal', 'non_animal', 'non_animal', 'non_animal', 'non_animal', 'non_animal', 'animal', 'non_animal', 'non_animal', 'non_animal', 'non_animal', 'non_animal', 'non_animal', 'non_animal', 'non_animal', 'non_animal', 'non_animal', 'non_animal', 'non_animal', 'animal', 'non_animal', 'non_animal', 'non_animal', 'non_animal', 'non_animal', 'non_animal', 'non_animal', 'non_animal', 'non_animal', 'animal', 'animal', 'non_animal', 'non_animal', 'non_animal', 'animal', 'non_animal', 'non_animal', 'non_animal', 'animal', 'non_animal', 'non_animal', 'animal', 'non_animal', 'non_animal', 'non_animal', 'non_animal', 'animal', 'non_animal', 'non_animal', 'non_animal', 'non_animal', 'animal', 'non_animal', 'animal', 'animal', 'non_animal', 'non_animal', 'animal', 'animal', 'animal', 'non_animal', 'non_animal', 'animal', 'non_animal', 'animal', 'non_animal', 'non_animal', 'animal', 'non_animal', 'non_animal', 'non_animal', 'non_animal', 'non_animal', 'non_animal', 'animal', 'non_animal', 'non_animal', 'non_animal', 'animal', 'non_animal', 'non_animal', 'non_animal', 'non_animal', 'animal', 'non_animal', 'non_animal', 'non_animal', 'non_animal', 'non_animal', 'animal', 'non_animal', 'non_animal', 'non_animal', 'non_animal', 'non_animal', 'non_animal', 'non_animal', 'non_animal', 'animal', 'non_animal', 'non_animal', 'non_animal', 'non_animal', 'non_animal', 'animal', 'non_animal', 'animal', 'non_animal', 'animal', 'animal', 'non_animal', 'non_animal', 'non_animal', 'non_animal', 'non_animal', 'non_animal', 'non_animal', 'animal', 'animal', 'animal', 'animal', 'non_animal', 'non_animal', 'non_animal', 'non_animal', 'non_animal', 'animal', 'animal', 'non_animal', 'non_animal', 'non_animal', 'non_animal', 'non_animal', 'non_animal', 'non_animal', 'non_animal', 'non_animal', 'non_animal', 'non_animal', 'non_animal', 'non_animal', 'animal', 'animal', 'non_animal', 'non_animal', 'non_animal', 'non_animal', 'animal', 'animal', 'animal', 'non_animal', 'non_animal', 'non_animal', 'non_animal', 'non_animal', 'animal', 'non_animal', 'non_animal', 'animal', 'animal', 'animal', 'non_animal', 'non_animal', 'non_animal', 'non_animal', 'non_animal', 'animal', 'non_animal', 'non_animal', 'non_animal', 'non_animal', 'non_animal', 'non_animal', 'non_animal', 'non_animal', 'non_animal', 'animal', 'non_animal', 'non_animal', 'non_animal', 'non_animal', 'non_animal', 'non_animal', 'non_animal', 'non_animal', 'animal', 'non_animal', 'non_animal', 'non_animal', 'non_animal', 'animal', 'non_animal', 'non_animal', 'animal', 'animal', 'non_animal', 'animal', 'non_animal', 'animal', 'animal', 'non_animal', 'non_animal', 'non_animal', 'animal', 'non_animal', 'non_animal', 'non_animal', 'non_animal', 'non_animal', 'non_animal', 'non_animal', 'non_animal', 'non_animal', 'non_animal', 'non_animal', 'non_animal', 'non_animal', 'non_animal', 'animal', 'non_animal', 'non_animal', 'animal', 'non_animal', 'non_animal', 'non_animal', 'animal', 'non_animal', 'non_animal', 'animal', 'non_animal', 'non_animal', 'non_animal', 'non_animal', 'non_animal', 'non_animal', 'non_animal', 'non_animal', 'non_animal', 'non_animal', 'non_animal', 'non_animal', 'non_animal', 'non_animal', 'non_animal', 'non_animal', 'non_animal', 'non_animal', 'non_animal', 'non_animal', 'non_animal', 'non_animal', 'non_animal', 'non_animal', 'non_animal', 'non_animal', 'non_animal', 'non_animal', 'non_animal', 'animal', 'non_animal', 'animal', 'non_animal', 'animal', 'non_animal', 'non_animal', 'non_animal', 'non_animal', 'non_animal', 'non_animal', 'animal', 'animal', 'non_animal', 'non_animal', 'non_animal', 'non_animal', 'animal', 'non_animal', 'non_animal', 'non_animal', 'non_animal', 'non_animal', 'non_animal', 'non_animal', 'non_animal', 'non_animal', 'non_animal', 'animal', 'non_animal', 'non_animal', 'non_animal', 'non_animal', 'non_animal', 'non_animal', 'non_animal', 'non_animal', 'non_animal', 'animal', 'non_animal', 'non_animal', 'animal', 'non_animal', 'non_animal', 'non_animal', 'non_animal', 'non_animal', 'non_animal', 'non_animal', 'animal', 'non_animal', 'non_animal', 'animal', 'non_animal', 'animal', 'non_animal', 'non_animal', 'animal', 'non_animal', 'non_animal', 'non_animal', 'animal', 'non_animal', 'non_animal', 'animal', 'animal', 'animal', 'non_animal', 'non_animal', 'non_animal', 'non_animal', 'non_animal', 'non_animal', 'animal', 'non_animal', 'non_animal', 'non_animal', 'non_animal', 'non_animal', 'non_animal', 'non_animal', 'non_animal', 'non_animal', 'non_animal', 'animal', 'non_animal', 'animal', 'non_animal', 'non_animal', 'non_animal', 'non_animal', 'non_animal', 'non_animal', 'non_animal', 'non_animal', 'non_animal', 'non_animal', 'non_animal', 'animal', 'non_animal', 'non_animal', 'non_animal', 'non_animal', 'non_animal', 'non_animal', 'non_animal', 'non_animal', 'animal', 'non_animal', 'non_animal', 'non_animal', 'non_animal', 'animal', 'animal', 'non_animal', 'non_animal', 'non_animal', 'animal', 'non_animal', 'non_animal', 'non_animal', 'animal', 'animal', 'non_animal', 'non_animal', 'non_animal', 'non_animal', 'non_animal', 'non_animal', 'non_animal', 'animal', 'non_animal', 'non_animal', 'non_animal', 'non_animal', 'animal', 'non_animal', 'non_animal', 'non_animal', 'non_animal', 'animal', 'non_animal', 'non_animal', 'non_animal', 'non_animal', 'non_animal', 'non_animal', 'non_animal', 'non_animal', 'non_animal', 'non_animal', 'non_animal', 'non_animal', 'non_animal', 'non_animal', 'non_animal', 'animal', 'animal', 'non_animal', 'non_animal', 'animal', 'non_animal', 'non_animal', 'animal', 'animal', 'animal', 'animal', 'non_animal', 'non_animal', 'non_animal', 'animal', 'non_animal', 'non_animal', 'non_animal', 'non_animal', 'non_animal', 'non_animal', 'non_animal', 'non_animal', 'non_animal', 'non_animal', 'non_animal', 'animal', 'non_animal', 'non_animal', 'non_animal', 'non_animal', 'non_animal', 'non_animal', 'animal', 'animal', 'animal', 'non_animal', 'non_animal', 'animal', 'non_animal', 'animal', 'non_animal', 'animal', 'animal', 'non_animal', 'non_animal', 'non_animal', 'non_animal', 'non_animal', 'non_animal', 'non_animal', 'non_animal', 'non_animal', 'animal', 'non_animal', 'non_animal', 'non_animal', 'non_animal', 'animal', 'non_animal', 'non_animal', 'non_animal', 'animal', 'non_animal', 'non_animal', 'animal', 'non_animal', 'non_animal', 'non_animal', 'non_animal', 'non_animal', 'non_animal', 'non_animal', 'non_animal', 'non_animal', 'animal', 'non_animal', 'non_animal', 'non_animal', 'non_animal', 'non_animal', 'non_animal', 'non_animal', 'non_animal', 'non_animal', 'animal', 'non_animal', 'non_animal', 'non_animal', 'non_animal', 'animal', 'non_animal', 'non_animal', 'non_animal', 'animal', 'animal', 'non_animal', 'non_animal', 'animal', 'non_animal', 'non_animal', 'non_animal', 'non_animal', 'animal', 'non_animal', 'non_animal', 'non_animal', 'non_animal', 'non_animal', 'non_animal', 'non_animal', 'non_animal', 'non_animal', 'non_animal', 'non_animal', 'non_animal', 'non_animal', 'non_animal', 'animal', 'animal', 'non_animal', 'animal', 'non_animal', 'non_animal', 'non_animal', 'non_animal', 'animal', 'animal', 'non_animal', 'non_animal', 'non_animal', 'non_animal', 'non_animal', 'animal', 'non_animal', 'animal', 'non_animal', 'non_animal', 'non_animal', 'non_animal', 'animal', 'animal', 'non_animal', 'non_animal', 'non_animal', 'non_animal', 'non_animal', 'animal', 'animal', 'animal', 'non_animal', 'animal', 'non_animal', 'animal', 'non_animal', 'non_animal', 'non_animal', 'animal', 'non_animal', 'animal', 'non_animal', 'non_animal', 'non_animal', 'non_animal', 'non_animal', 'animal', 'animal', 'non_animal', 'non_animal', 'non_animal', 'animal', 'non_animal', 'non_animal', 'non_animal', 'non_animal', 'non_animal', 'non_animal', 'non_animal', 'non_animal', 'animal', 'non_animal', 'non_animal', 'non_animal', 'animal', 'non_animal', 'non_animal', 'non_animal', 'non_animal', 'non_animal', 'non_animal', 'non_animal', 'animal', 'animal', 'non_animal', 'non_animal', 'non_animal', 'non_animal', 'non_animal', 'non_animal', 'animal', 'animal', 'non_animal', 'non_animal', 'animal', 'non_animal', 'non_animal', 'non_animal', 'non_animal', 'non_animal', 'non_animal', 'non_animal', 'non_animal', 'non_animal', 'non_animal', 'non_animal', 'non_animal', 'non_animal', 'non_animal', 'animal', 'non_animal', 'non_animal', 'animal', 'non_animal', 'animal', 'non_animal', 'animal', 'animal', 'animal', 'animal', 'non_animal', 'non_animal', 'animal', 'non_animal', 'non_animal', 'non_animal', 'animal', 'animal', 'non_animal', 'non_animal', 'non_animal', 'animal', 'non_animal', 'animal', 'non_animal', 'non_animal', 'animal', 'non_animal', 'non_animal', 'non_animal', 'animal', 'non_animal', 'non_animal', 'non_animal', 'animal', 'animal', 'non_animal', 'non_animal', 'non_animal', 'non_animal', 'non_animal', 'animal', 'non_animal', 'non_animal', 'non_animal', 'non_animal', 'non_animal', 'non_animal', 'non_animal', 'non_animal', 'non_animal', 'non_animal', 'animal', 'animal', 'non_animal', 'non_animal', 'non_animal', 'non_animal', 'non_animal', 'non_animal', 'non_animal', 'animal', 'non_animal', 'animal', 'animal', 'non_animal', 'non_animal', 'non_animal', 'non_animal', 'non_animal', 'non_animal', 'animal', 'non_animal', 'non_animal', 'non_animal', 'animal', 'animal', 'non_animal', 'animal', 'non_animal', 'non_animal', 'non_animal', 'animal', 'animal', 'non_animal', 'non_animal', 'non_animal', 'animal', 'non_animal', 'non_animal', 'non_animal', 'non_animal', 'non_animal', 'animal', 'non_animal', 'non_animal', 'non_animal', 'non_animal', 'animal', 'animal', 'non_animal', 'non_animal']\n",
            "[1 1 1 ... 0 1 1]\n"
          ],
          "name": "stdout"
        }
      ]
    },
    {
      "cell_type": "markdown",
      "metadata": {
        "id": "gWYn-buku-Ho",
        "colab_type": "text"
      },
      "source": [
        "**Sử dụng HOG để rút trích đặc trưng**\n",
        "\n",
        "\n"
      ]
    },
    {
      "cell_type": "code",
      "metadata": {
        "id": "Bk-kJHx2kB_r",
        "colab_type": "code",
        "colab": {}
      },
      "source": [
        "features = []\n",
        "hog = HOG(orientations=12, pixelsPerCell=(4, 4), cellsPerBlock=(2, 2), normalize=True)\n",
        "for img in data:\n",
        "  features.append(hog.describe(img))"
      ],
      "execution_count": 7,
      "outputs": []
    },
    {
      "cell_type": "markdown",
      "metadata": {
        "id": "WHLWrAMbvIgc",
        "colab_type": "text"
      },
      "source": [
        "Chia bộ train test theo tỷ lệ 75-25"
      ]
    },
    {
      "cell_type": "code",
      "metadata": {
        "id": "RQCoUVSxnZZz",
        "colab_type": "code",
        "colab": {}
      },
      "source": [
        "x_train, x_test, y_train, y_test = train_test_split(features, lb, test_size=0.15)"
      ],
      "execution_count": 8,
      "outputs": []
    },
    {
      "cell_type": "markdown",
      "metadata": {
        "id": "K4b6AA8m-8XU",
        "colab_type": "text"
      },
      "source": [
        "Sử dụng SVM để train trên bộ feature đã thu được ở trên"
      ]
    },
    {
      "cell_type": "code",
      "metadata": {
        "id": "cRsECp_RosuR",
        "colab_type": "code",
        "colab": {
          "base_uri": "https://localhost:8080/",
          "height": 84
        },
        "outputId": "a4b83056-8237-4e01-9e08-a6d8132a641d"
      },
      "source": [
        "model = SVC(kernel=\"linear\", probability=False, random_state=42)\n",
        "model.fit(x_train, y_train)"
      ],
      "execution_count": 9,
      "outputs": [
        {
          "output_type": "execute_result",
          "data": {
            "text/plain": [
              "SVC(C=1.0, break_ties=False, cache_size=200, class_weight=None, coef0=0.0,\n",
              "    decision_function_shape='ovr', degree=3, gamma='scale', kernel='linear',\n",
              "    max_iter=-1, probability=False, random_state=42, shrinking=True, tol=0.001,\n",
              "    verbose=False)"
            ]
          },
          "metadata": {
            "tags": []
          },
          "execution_count": 9
        }
      ]
    },
    {
      "cell_type": "code",
      "metadata": {
        "id": "G-KQIjhivkEQ",
        "colab_type": "code",
        "colab": {
          "base_uri": "https://localhost:8080/",
          "height": 34
        },
        "outputId": "b4dce2ba-6b00-4688-b735-a264a3184f53"
      },
      "source": [
        "from sklearn.metrics import accuracy_score\n",
        "pred = model.predict(x_test)\n",
        "print('acc: ', accuracy_score(pred, y_test))"
      ],
      "execution_count": 10,
      "outputs": [
        {
          "output_type": "stream",
          "text": [
            "acc:  0.9602272727272727\n"
          ],
          "name": "stdout"
        }
      ]
    },
    {
      "cell_type": "code",
      "metadata": {
        "id": "5M6kUZOkx8BW",
        "colab_type": "code",
        "colab": {}
      },
      "source": [
        "IMG_PATH = '1.jpg'\n",
        "# read image\n",
        "img = cv2.imread(IMG_PATH, cv2.IMREAD_GRAYSCALE)\n",
        "heigh, width = img.shape\n",
        "ratio = heigh/width;\n",
        "for i in range(3):\n",
        "  new_width = 300 + i*100;\n",
        "  new_heigh = int(new_width * ratio);\n",
        "  img_resize = cv2.resize(img, (new_width, new_heigh))\n",
        "  img_resize = cv2.blur(img_resize, ksize=(2, 2))\n",
        "  cv2_imshow(img_resize)\n",
        "  x = 0\n",
        "  pred=0\n",
        "  while(x + 110 <= new_heigh):\n",
        "    y = 0\n",
        "    while(y + 140 <= new_width):\n",
        "      wd = img_resize[x:x+110, y:y+140]\n",
        "      wd = cv2.resize(wd, (140, 110))\n",
        "      temp1 = hog.describe(wd)\n",
        "      temp = model.predict([temp1])\n",
        "      if temp == [0]:\n",
        "        pred = 1\n",
        "        cv2_imshow(wd)\n",
        "        print(temp)\n",
        "      y = y + 5\n",
        "    x = x + 5\n",
        "print(pred);"
      ],
      "execution_count": null,
      "outputs": []
    },
    {
      "cell_type": "code",
      "metadata": {
        "id": "1a5ikbQ9TM9j",
        "colab_type": "code",
        "colab": {}
      },
      "source": [
        "IMG_PATH = '4.jpg'\n",
        "# read image\n",
        "test = cv2.imread(IMG_PATH, cv2.IMREAD_GRAYSCALE)\n",
        "test = cv2.resize(test, (140, 110))\n",
        "test = cv2.blur(test, ksize=(2, 2))\n",
        "cv2_imshow(test)\n",
        "test_feature = hog.describe(test)\n",
        "score = model.predict([test_feature])\n",
        "print(score)"
      ],
      "execution_count": null,
      "outputs": []
    },
    {
      "cell_type": "markdown",
      "metadata": {
        "id": "s-9cbU2vpiol",
        "colab_type": "text"
      },
      "source": [
        "# Sử dụng KNN\n"
      ]
    },
    {
      "cell_type": "code",
      "metadata": {
        "id": "RkBgpI9HomWh",
        "colab_type": "code",
        "colab": {
          "base_uri": "https://localhost:8080/",
          "height": 67
        },
        "outputId": "373b94e0-b398-4d32-a169-2d11e68b0e3b"
      },
      "source": [
        "from sklearn import neighbors, datasets\n",
        "clf = neighbors.KNeighborsClassifier(n_neighbors = 5, p = 1)\n",
        "clf.fit(x_train, y_train)"
      ],
      "execution_count": null,
      "outputs": [
        {
          "output_type": "execute_result",
          "data": {
            "text/plain": [
              "KNeighborsClassifier(algorithm='auto', leaf_size=30, metric='minkowski',\n",
              "                     metric_params=None, n_jobs=None, n_neighbors=20, p=1,\n",
              "                     weights='uniform')"
            ]
          },
          "metadata": {
            "tags": []
          },
          "execution_count": 38
        }
      ]
    },
    {
      "cell_type": "code",
      "metadata": {
        "id": "zL9qeJ47poL3",
        "colab_type": "code",
        "colab": {
          "base_uri": "https://localhost:8080/",
          "height": 34
        },
        "outputId": "b718d149-cdb0-4661-f7c5-616bb85dc312"
      },
      "source": [
        "pred = clf.predict(x_test)\n",
        "print('acc: ', accuracy_score(pred, y_test))"
      ],
      "execution_count": null,
      "outputs": [
        {
          "output_type": "stream",
          "text": [
            "acc:  0.28725961538461536\n"
          ],
          "name": "stdout"
        }
      ]
    }
  ]
}
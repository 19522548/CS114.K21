{
  "nbformat": 4,
  "nbformat_minor": 0,
  "metadata": {
    "colab": {
      "name": "Untitled18.ipynb",
      "provenance": [],
      "authorship_tag": "ABX9TyMy3Q4KeHOWRAK5RYh5A2Ib",
      "include_colab_link": true
    },
    "kernelspec": {
      "name": "python3",
      "display_name": "Python 3"
    }
  },
  "cells": [
    {
      "cell_type": "markdown",
      "metadata": {
        "id": "view-in-github",
        "colab_type": "text"
      },
      "source": [
        "<a href=\"https://colab.research.google.com/github/tuananh11052000/CS114.K21/blob/master/Lab7_predict_house_price.ipynb\" target=\"_parent\"><img src=\"https://colab.research.google.com/assets/colab-badge.svg\" alt=\"Open In Colab\"/></a>"
      ]
    },
    {
      "cell_type": "markdown",
      "metadata": {
        "id": "J7gOuh_G-RPb",
        "colab_type": "text"
      },
      "source": [
        "# Import Turicreate\n",
        "\n"
      ]
    },
    {
      "cell_type": "code",
      "metadata": {
        "id": "0UyBy7y2ayHJ",
        "colab_type": "code",
        "colab": {}
      },
      "source": [
        "pip install turicreate"
      ],
      "execution_count": 0,
      "outputs": []
    },
    {
      "cell_type": "code",
      "metadata": {
        "id": "D4GnBA50YXLf",
        "colab_type": "code",
        "colab": {}
      },
      "source": [
        "import turicreate"
      ],
      "execution_count": 0,
      "outputs": []
    },
    {
      "cell_type": "markdown",
      "metadata": {
        "id": "pz7d-4GW__a_",
        "colab_type": "text"
      },
      "source": [
        "# Load data từ driver"
      ]
    },
    {
      "cell_type": "code",
      "metadata": {
        "id": "x9CyFfRdYXLk",
        "colab_type": "code",
        "colab": {}
      },
      "source": [
        "sales = turicreate.SFrame('drive/My Drive/Dataset/home_data.sframe/')"
      ],
      "execution_count": 0,
      "outputs": []
    },
    {
      "cell_type": "markdown",
      "metadata": {
        "id": "9ZHGby2J_99I",
        "colab_type": "text"
      },
      "source": [
        "# Quan sát dataset dưới dạng bảng"
      ]
    },
    {
      "cell_type": "code",
      "metadata": {
        "id": "bBBm6XhoA0K4",
        "colab_type": "code",
        "colab": {}
      },
      "source": [
        "sales"
      ],
      "execution_count": 0,
      "outputs": []
    },
    {
      "cell_type": "markdown",
      "metadata": {
        "id": "bLvnoZLFBCZw",
        "colab_type": "text"
      },
      "source": [
        "# Quan sat dataset dưới dạng đồ thị"
      ]
    },
    {
      "cell_type": "code",
      "metadata": {
        "id": "3wU5qA-mBHlS",
        "colab_type": "code",
        "colab": {}
      },
      "source": [
        "sales.show()"
      ],
      "execution_count": 0,
      "outputs": []
    },
    {
      "cell_type": "markdown",
      "metadata": {
        "id": "8NXAOAm5BMUi",
        "colab_type": "text"
      },
      "source": [
        "# Đồ thị mối quan hệ giữa diện tích và giá nhà"
      ]
    },
    {
      "cell_type": "code",
      "metadata": {
        "id": "HjGS9oIYYXLs",
        "colab_type": "code",
        "colab": {}
      },
      "source": [
        "turicreate.show(sales[1:5000]['sqft_living'],sales[1:5000]['price'])"
      ],
      "execution_count": 0,
      "outputs": []
    },
    {
      "cell_type": "markdown",
      "metadata": {
        "id": "1fjAF46kBgjX",
        "colab_type": "text"
      },
      "source": [
        "# Mô hình hồi quy tuyến tính dùng để dự đoán giá nhà từ diện tích"
      ]
    },
    {
      "cell_type": "markdown",
      "metadata": {
        "id": "I9Z2TH81BrJz",
        "colab_type": "text"
      },
      "source": [
        "# Phân chia tập dữ liệu"
      ]
    },
    {
      "cell_type": "code",
      "metadata": {
        "id": "y1CS0S_uYXLv",
        "colab_type": "code",
        "colab": {}
      },
      "source": [
        "training_set, test_set = sales.random_split(.8,seed=0)"
      ],
      "execution_count": 0,
      "outputs": []
    },
    {
      "cell_type": "markdown",
      "metadata": {
        "id": "LWWW4wumB-2A",
        "colab_type": "text"
      },
      "source": [
        "# Huấn luyện mô hình"
      ]
    },
    {
      "cell_type": "code",
      "metadata": {
        "id": "lKwimUk9YXLy",
        "colab_type": "code",
        "colab": {}
      },
      "source": [
        "sqft_model = turicreate.linear_regression.create(training_set,target='price',features=['sqft_living'])"
      ],
      "execution_count": 0,
      "outputs": []
    },
    {
      "cell_type": "markdown",
      "metadata": {
        "id": "xM5_OY3zCK9D",
        "colab_type": "text"
      },
      "source": [
        "# Đánh giá mô hình"
      ]
    },
    {
      "cell_type": "markdown",
      "metadata": {
        "id": "6C8TLKpVCQzB",
        "colab_type": "text"
      },
      "source": [
        "# Giá nhà trung bình trên test set"
      ]
    },
    {
      "cell_type": "code",
      "metadata": {
        "id": "YcHJwmt6YXL1",
        "colab_type": "code",
        "colab": {}
      },
      "source": [
        "print (test_set['price'].mean())"
      ],
      "execution_count": 0,
      "outputs": []
    },
    {
      "cell_type": "markdown",
      "metadata": {
        "id": "Qr8O7-XYCajU",
        "colab_type": "text"
      },
      "source": [
        "# Sai số lớn nhất và sai số trung bình khi dự đoán"
      ]
    },
    {
      "cell_type": "code",
      "metadata": {
        "id": "xa3kK0cKCcwA",
        "colab_type": "code",
        "colab": {}
      },
      "source": [
        "print (sqft_model.evaluate(test_set))"
      ],
      "execution_count": 0,
      "outputs": []
    },
    {
      "cell_type": "markdown",
      "metadata": {
        "id": "SKKspS4uCgxB",
        "colab_type": "text"
      },
      "source": [
        "# Mở rộng mô hình"
      ]
    },
    {
      "cell_type": "markdown",
      "metadata": {
        "id": "CnG-lwB6Ciw9",
        "colab_type": "text"
      },
      "source": [
        "# Giá trị của các hệ số (weight)"
      ]
    },
    {
      "cell_type": "code",
      "metadata": {
        "id": "BHM6XWKlClfW",
        "colab_type": "code",
        "colab": {}
      },
      "source": [
        "sqft_model.coefficients"
      ],
      "execution_count": 0,
      "outputs": []
    },
    {
      "cell_type": "markdown",
      "metadata": {
        "id": "EAc-KAszCofP",
        "colab_type": "text"
      },
      "source": [
        "# Trực quan hóa giá nhà dự đoán và giá nhà thực tế dựa vào diện tích"
      ]
    },
    {
      "cell_type": "code",
      "metadata": {
        "id": "GfGE_malCqwY",
        "colab_type": "code",
        "colab": {}
      },
      "source": [
        "import matplotlib.pyplot as plt\n",
        "%matplotlib inline\n",
        "plt.plot(test_set['sqft_living'],test_set['price'],'.',\n",
        "        test_set['sqft_living'],sqft_model.predict(test_set),'-')"
      ],
      "execution_count": 0,
      "outputs": []
    },
    {
      "cell_type": "markdown",
      "metadata": {
        "id": "daZH-hNMCstM",
        "colab_type": "text"
      },
      "source": [
        "# Khám phá những features của data"
      ]
    },
    {
      "cell_type": "markdown",
      "metadata": {
        "id": "Z2gn3ikWCu2a",
        "colab_type": "text"
      },
      "source": [
        "# Trực quan hóa giá trị của các features (trục X là value, Y là frequency)"
      ]
    },
    {
      "cell_type": "code",
      "metadata": {
        "id": "ho8GDL0PCw-t",
        "colab_type": "code",
        "colab": {}
      },
      "source": [
        "my_features = ['bedrooms','bathrooms','sqft_living','sqft_lot','floors','zipcode']"
      ],
      "execution_count": 0,
      "outputs": []
    },
    {
      "cell_type": "code",
      "metadata": {
        "id": "AnUbbQPUCyiB",
        "colab_type": "code",
        "colab": {}
      },
      "source": [
        "sales[my_features].show()"
      ],
      "execution_count": 0,
      "outputs": []
    },
    {
      "cell_type": "code",
      "metadata": {
        "id": "WDdLUgOFCzWQ",
        "colab_type": "code",
        "colab": {}
      },
      "source": [
        "turicreate.show(sales['zipcode'],sales['price'])"
      ],
      "execution_count": 0,
      "outputs": []
    },
    {
      "cell_type": "markdown",
      "metadata": {
        "id": "NOIznCViC2iU",
        "colab_type": "text"
      },
      "source": [
        "# Xây dựng model với nhiều features hơn"
      ]
    },
    {
      "cell_type": "code",
      "metadata": {
        "id": "tD50CFqiC5F0",
        "colab_type": "code",
        "colab": {}
      },
      "source": [
        "my_features_model = turicreate.linear_regression.create(training_set,target='price',features=my_features)"
      ],
      "execution_count": 0,
      "outputs": []
    },
    {
      "cell_type": "markdown",
      "metadata": {
        "id": "OnxSbxBiC5wE",
        "colab_type": "text"
      },
      "source": [
        "# So sánh khả năng dự đoán giữa hai model trên"
      ]
    },
    {
      "cell_type": "code",
      "metadata": {
        "id": "GO71bGPzC9A-",
        "colab_type": "code",
        "colab": {}
      },
      "source": [
        "print (my_features)"
      ],
      "execution_count": 0,
      "outputs": []
    },
    {
      "cell_type": "code",
      "metadata": {
        "id": "L3pEWrLRC9p2",
        "colab_type": "code",
        "colab": {}
      },
      "source": [
        "print ('sqft_model: ',sqft_model.evaluate(test_set))\n",
        "print ('my_features: ',my_features_model.evaluate(test_set))"
      ],
      "execution_count": 0,
      "outputs": []
    },
    {
      "cell_type": "markdown",
      "metadata": {
        "id": "X8vwuwgDDCEG",
        "colab_type": "text"
      },
      "source": [
        "- Nhận xét: Ta thấy model được train bởi vector có nhiều tính năng đem lại độ chính xác cao hơn"
      ]
    },
    {
      "cell_type": "markdown",
      "metadata": {
        "id": "ImUqXG6tDGNQ",
        "colab_type": "text"
      },
      "source": [
        "# Áp dụng vào dự đoán thực tế"
      ]
    },
    {
      "cell_type": "markdown",
      "metadata": {
        "id": "uvUX8IDYDLms",
        "colab_type": "text"
      },
      "source": [
        "# Dự đoán giá của một ngôi nhà có id là 5309101200"
      ]
    },
    {
      "cell_type": "code",
      "metadata": {
        "id": "XmhprjIGDNsO",
        "colab_type": "code",
        "colab": {}
      },
      "source": [
        "house1 = sales[sales['id']=='5309101200']"
      ],
      "execution_count": 0,
      "outputs": []
    },
    {
      "cell_type": "code",
      "metadata": {
        "id": "zAqWyvRBDPRz",
        "colab_type": "code",
        "colab": {}
      },
      "source": [
        "house1"
      ],
      "execution_count": 0,
      "outputs": []
    },
    {
      "cell_type": "code",
      "metadata": {
        "id": "XSdn8XpBDSk7",
        "colab_type": "code",
        "colab": {}
      },
      "source": [
        "print (house1['price'])"
      ],
      "execution_count": 0,
      "outputs": []
    },
    {
      "cell_type": "code",
      "metadata": {
        "id": "ZeLDmldTDUNI",
        "colab_type": "code",
        "colab": {}
      },
      "source": [
        "print (sqft_model.predict(house1))"
      ],
      "execution_count": 0,
      "outputs": []
    },
    {
      "cell_type": "code",
      "metadata": {
        "id": "VMWilBjjDW73",
        "colab_type": "code",
        "colab": {}
      },
      "source": [
        "print (my_features_model.predict(house1))"
      ],
      "execution_count": 0,
      "outputs": []
    },
    {
      "cell_type": "markdown",
      "metadata": {
        "id": "SkjGbYrxDY0B",
        "colab_type": "text"
      },
      "source": [
        "# Tương tự với một ngôi nhà khác có id là 1925069082"
      ]
    },
    {
      "cell_type": "code",
      "metadata": {
        "id": "hVn8ycKbDamv",
        "colab_type": "code",
        "colab": {}
      },
      "source": [
        "house2 = sales[sales['id']=='1925069082']"
      ],
      "execution_count": 0,
      "outputs": []
    },
    {
      "cell_type": "code",
      "metadata": {
        "id": "Lx3VfBelDcIe",
        "colab_type": "code",
        "colab": {}
      },
      "source": [
        "house2"
      ],
      "execution_count": 0,
      "outputs": []
    },
    {
      "cell_type": "markdown",
      "metadata": {
        "id": "HBvwTCrADea-",
        "colab_type": "text"
      },
      "source": [
        "Kết quả sau khi dự đoán bằng 2 model trên"
      ]
    },
    {
      "cell_type": "code",
      "metadata": {
        "id": "5mCiUdlIDguW",
        "colab_type": "code",
        "colab": {}
      },
      "source": [
        "print (sqft_model.predict(house2))"
      ],
      "execution_count": 0,
      "outputs": []
    },
    {
      "cell_type": "code",
      "metadata": {
        "id": "nw1D6mXDDihC",
        "colab_type": "code",
        "colab": {}
      },
      "source": [
        "print (my_features_model.predict(house2))"
      ],
      "execution_count": 0,
      "outputs": []
    },
    {
      "cell_type": "markdown",
      "metadata": {
        "id": "5w2vQGFXDkOw",
        "colab_type": "text"
      },
      "source": [
        "# Dự đoán giá của một ngôi nhà với đầy đủ 21 features"
      ]
    },
    {
      "cell_type": "code",
      "metadata": {
        "id": "6qYBBT0aYXMl",
        "colab_type": "code",
        "colab": {}
      },
      "source": [
        "bill_gates = {'bedrooms':[8], \n",
        "              'bathrooms':[25], \n",
        "              'sqft_living':[50000], \n",
        "              'sqft_lot':[225000],\n",
        "              'floors':[4], \n",
        "              'zipcode':['98039'], \n",
        "              'condition':[10], \n",
        "              'grade':[10],\n",
        "              'waterfront':[1],\n",
        "              'view':[4],\n",
        "              'sqft_above':[37500],\n",
        "              'sqft_basement':[12500],\n",
        "              'yr_built':[1994],\n",
        "              'yr_renovated':[2010],\n",
        "              'lat':[47.627606],\n",
        "              'long':[-122.242054],\n",
        "              'sqft_living15':[5000],\n",
        "              'sqft_lot15':[40000]}"
      ],
      "execution_count": 0,
      "outputs": []
    },
    {
      "cell_type": "markdown",
      "metadata": {
        "id": "IH_UzSsCDmBL",
        "colab_type": "text"
      },
      "source": [
        "Kết quả dự đoán"
      ]
    },
    {
      "cell_type": "code",
      "metadata": {
        "id": "eOi82ZESDn5O",
        "colab_type": "code",
        "colab": {}
      },
      "source": [
        "print (my_features_model.predict(turicreate.SFrame(bill_gates))) "
      ],
      "execution_count": 0,
      "outputs": []
    }
  ]
}
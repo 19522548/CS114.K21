{
  "nbformat": 4,
  "nbformat_minor": 0,
  "metadata": {
    "colab": {
      "name": "Linear Regression.ipynb",
      "provenance": [],
      "authorship_tag": "ABX9TyOtbrXZN7cnwqpE4VaQEjRo",
      "include_colab_link": true
    },
    "kernelspec": {
      "name": "python3",
      "display_name": "Python 3"
    }
  },
  "cells": [
    {
      "cell_type": "markdown",
      "metadata": {
        "id": "view-in-github",
        "colab_type": "text"
      },
      "source": [
        "<a href=\"https://colab.research.google.com/github/tuananh11052000/CS114.K21/blob/master/Linear_Regression.ipynb\" target=\"_parent\"><img src=\"https://colab.research.google.com/assets/colab-badge.svg\" alt=\"Open In Colab\"/></a>"
      ]
    },
    {
      "cell_type": "code",
      "metadata": {
        "id": "HAGjpzuxFsLx",
        "colab_type": "code",
        "colab": {}
      },
      "source": [
        "def predict(X, Theta):\n",
        "  return X@Theta"
      ],
      "execution_count": 0,
      "outputs": []
    },
    {
      "cell_type": "code",
      "metadata": {
        "id": "WRltUg8CElOd",
        "colab_type": "code",
        "colab": {}
      },
      "source": [
        "def computeCost_Vec(X,y,Theta):\n",
        "\terror = predict(X,Theta) - y\n",
        "\tm = np.size(y)\n",
        "\tJ = (1/(2*m))*np.transpose(error)@error\n",
        "\treturn J"
      ],
      "execution_count": 0,
      "outputs": []
    },
    {
      "cell_type": "code",
      "metadata": {
        "id": "bkaY0qRoWabf",
        "colab_type": "code",
        "colab": {}
      },
      "source": [
        "def computeCost(X,y,Theta):\n",
        "\tpredicted = predict(X, Theta)\n",
        "\tsqr_error = (predicted - y)**2\n",
        "\tsum_error = np.sum(sqr_error)\n",
        "\tm = np.size(y)\n",
        "\tJ = (1/(2*m))*sum_error\n",
        "\treturn J"
      ],
      "execution_count": 0,
      "outputs": []
    },
    {
      "cell_type": "code",
      "metadata": {
        "id": "bNN6Ia4eLD1G",
        "colab_type": "code",
        "outputId": "b6445cd0-f98e-4a9e-e8dc-0c5bceb013f5",
        "colab": {
          "base_uri": "https://localhost:8080/",
          "height": 34
        }
      },
      "source": [
        "import numpy as np\n",
        "#import toàn bộ file data.txt\n",
        "raw = np.loadtxt('data.txt', delimiter = ',')\n",
        "#tạo vector y = cột thứ 3 (index = 2)\n",
        "y = raw[:,2]\n",
        "#tạo ma trận X trống\n",
        "X = np.zeros((np.size(y),np.size(raw,1)))\n",
        "#thêm 1 vào cột đầu\n",
        "X[:,0] = 1\n",
        "#Thêm 2 cột sau vào\n",
        "X[:,1:] = raw[:,0:2]\n",
        "\n",
        "theta = np.array([1,2,3])\n",
        "print(computeCost(X,y,theta),computeCost_Vec(X,y,theta))"
      ],
      "execution_count": 22,
      "outputs": [
        {
          "output_type": "stream",
          "text": [
            "64068714114.436165 64068714114.43616\n"
          ],
          "name": "stdout"
        }
      ]
    },
    {
      "cell_type": "code",
      "metadata": {
        "id": "cSJEyrTNTlCi",
        "colab_type": "code",
        "colab": {}
      },
      "source": [
        ""
      ],
      "execution_count": 0,
      "outputs": []
    }
  ]
}
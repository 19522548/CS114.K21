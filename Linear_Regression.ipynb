{
  "nbformat": 4,
  "nbformat_minor": 0,
  "metadata": {
    "colab": {
      "name": "Linear Regression.ipynb",
      "provenance": [],
      "authorship_tag": "ABX9TyPRdQJOuRQkK39h7HmWakzy",
      "include_colab_link": true
    },
    "kernelspec": {
      "name": "python3",
      "display_name": "Python 3"
    }
  },
  "cells": [
    {
      "cell_type": "markdown",
      "metadata": {
        "id": "view-in-github",
        "colab_type": "text"
      },
      "source": [
        "<a href=\"https://colab.research.google.com/github/tuananh11052000/CS114.K21/blob/master/Linear_Regression.ipynb\" target=\"_parent\"><img src=\"https://colab.research.google.com/assets/colab-badge.svg\" alt=\"Open In Colab\"/></a>"
      ]
    },
    {
      "cell_type": "code",
      "metadata": {
        "id": "HAGjpzuxFsLx",
        "colab_type": "code",
        "colab": {}
      },
      "source": [
        "def predict(X, Theta):\n",
        "  return X@Theta"
      ],
      "execution_count": 0,
      "outputs": []
    },
    {
      "cell_type": "code",
      "metadata": {
        "id": "WRltUg8CElOd",
        "colab_type": "code",
        "colab": {}
      },
      "source": [
        "def computerCost_dev(X, y, Theta):\n",
        "  error = predict(X, Theta)\n",
        "  m = np.size(y)\n",
        "  J = (1/(2*m))*np.transpose(error)@error\n",
        "  return J"
      ],
      "execution_count": 0,
      "outputs": []
    },
    {
      "cell_type": "code",
      "metadata": {
        "id": "bkaY0qRoWabf",
        "colab_type": "code",
        "colab": {}
      },
      "source": [
        "def computeCost(X,y,Theta):\n",
        "\tsqr_error = (predicted – y)**2\n",
        "\tsum_error = np.sum(sqr_error)\n",
        "\tm = np.size(y)\n",
        "\tJ = (1/(2*m))*sum_error\n",
        "\treturn J"
      ],
      "execution_count": 0,
      "outputs": []
    },
    {
      "cell_type": "code",
      "metadata": {
        "id": "bNN6Ia4eLD1G",
        "colab_type": "code",
        "colab": {
          "base_uri": "https://localhost:8080/",
          "height": 34
        },
        "outputId": "27920dd6-8f93-4943-ff83-75e227baefe3"
      },
      "source": [
        "# import numpy as np\n",
        "# raw = np.loadtxt('data.txt', delimiter=',')\n",
        "# y = raw[:,2]\n",
        "# X = np.zeros((np.size(y),np.size(raw,1))) # tao ma tran 0\n",
        "# X[:, 0] = 1;\n",
        "# X[:,1:] = raw[:,0:2]\n",
        "# Theta = np.array([1, 2, 3])\n",
        "# print(computerCost(X, y, Theta), computerCost_dev(X, y, Theta))\n",
        "import numpy as np\n",
        "#import toàn bộ file data.txt\n",
        "raw = np.loadtxt('data.txt', delimiter = ',')\n",
        "#tạo vector y = cột thứ 3 (index = 2)\n",
        "y = raw[:,2]\n",
        "#tạo ma trận X trống\n",
        "X = np.zeros((np.size(y),np.size(raw,1)))\n",
        "#thêm 1 vào cột đầu\n",
        "X[:,0] = 1\n",
        "#Thêm 2 cột sau vào\n",
        "X[:,1:] = raw[:,0:2]\n",
        "\n",
        "theta = np.array([1,2,3])\n",
        "print(computerCost(X, y, Theta), computerCost_dev(X, y, Theta))"
      ],
      "execution_count": 26,
      "outputs": [
        {
          "output_type": "stream",
          "text": [
            "9285780.127659576 9285780.127659576\n"
          ],
          "name": "stdout"
        }
      ]
    },
    {
      "cell_type": "code",
      "metadata": {
        "id": "cSJEyrTNTlCi",
        "colab_type": "code",
        "colab": {}
      },
      "source": [
        ""
      ],
      "execution_count": 0,
      "outputs": []
    }
  ]
}
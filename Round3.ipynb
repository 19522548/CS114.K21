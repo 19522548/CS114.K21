{
  "nbformat": 4,
  "nbformat_minor": 0,
  "metadata": {
    "colab": {
      "name": "DU DOAN THOI GIAN CHAY CUA CHUONG TRINH.ipynb",
      "provenance": [],
      "mount_file_id": "1_xz4-iuHSXgdjEDKkdaaZJQayfQ-zJ8A",
      "authorship_tag": "ABX9TyOe3cyVyeKbvcVmpXNyYMb2",
      "include_colab_link": true
    },
    "kernelspec": {
      "name": "python3",
      "display_name": "Python 3"
    }
  },
  "cells": [
    {
      "cell_type": "markdown",
      "metadata": {
        "id": "view-in-github",
        "colab_type": "text"
      },
      "source": [
        "<a href=\"https://colab.research.google.com/github/tuananh11052000/CS114.K21/blob/master/Round3.ipynb\" target=\"_parent\"><img src=\"https://colab.research.google.com/assets/colab-badge.svg\" alt=\"Open In Colab\"/></a>"
      ]
    },
    {
      "cell_type": "markdown",
      "metadata": {
        "id": "Nxa1QUdG7tVa",
        "colab_type": "text"
      },
      "source": [
        "\n",
        "\n",
        "1.   Khi thực hiện train với tập dữ liệu mới thì kết quả dự đoán có độ chính xác thấp hơn nhiều so với bộ dataset ban đầu. Vói tỉ lệ sai số so với kết quả trung bình là 1/880 nếu sử dụng model của round2.\n",
        "2.   Lý do của sự sai số này là các điểm dữu liệu nhiễu ở bộ dataset nay nhiều hơn bộ trước đó(hình mô tả các điểm dữ liệu ở bên dưới)\n",
        "\n",
        "\n",
        "3.   Lý do khiến sai số trung bình này lớn cũng bởi vì size của chương trình trong dataset sau lớn hơn nhiều so với dataset đầu\n",
        "\n",
        "\n",
        "4.    Thực hiện thêm các cột là bình phương và log() của size để cải thiện độ chính xác của chương trình.\n",
        "\n",
        "\n",
        "\n",
        "\n"
      ]
    },
    {
      "cell_type": "markdown",
      "metadata": {
        "id": "J9QDQ6PaIQHj",
        "colab_type": "text"
      },
      "source": [
        "import các thư viện cần thiết"
      ]
    },
    {
      "cell_type": "code",
      "metadata": {
        "id": "oJ4OP2xwGgvT",
        "colab_type": "code",
        "colab": {}
      },
      "source": [
        "import pandas as pd\n",
        "import matplotlib.pyplot as plt\n",
        "import random\n",
        "from sklearn.model_selection import train_test_split\n",
        "from sklearn.linear_model import LinearRegression\n",
        "import numpy as np\n",
        "from sklearn.metrics import mean_squared_error, r2_score"
      ],
      "execution_count": 0,
      "outputs": []
    },
    {
      "cell_type": "markdown",
      "metadata": {
        "id": "QsetV3FMH9Wi",
        "colab_type": "text"
      },
      "source": [
        "Tăng số lượng dữ liệu bằng cách thêm các cột là bình phương là log() độ phức tạp của chương trình."
      ]
    },
    {
      "cell_type": "code",
      "metadata": {
        "id": "pwb7-NdZGk6f",
        "colab_type": "code",
        "outputId": "7ecfed6b-cb6d-4dee-f0e1-288b13ebfed3",
        "colab": {
          "base_uri": "https://localhost:8080/",
          "height": 124
        }
      },
      "source": [
        "time_df = pd.read_csv('round3.csv', names=[\"size\", \"time\"])\n",
        "size = time_df['size'].astype(float)\n",
        "\n",
        "size_n2 = pow(size, 2)\n",
        "size_log = size * np.log2(size)\n",
        "\n",
        "time_df['size_n2'] = size_n2\n",
        "time_df['size_log'] = size_log\n",
        "column_names = ['size', 'size_n2', 'size_log', 'time']\n",
        "pr_df = time_df.reindex(columns=column_names)\n",
        "\n",
        "data = pr_df[['size', 'size_n2', 'size_log']].values\n",
        "labels = pr_df['time'].values\n",
        "print(pr_df.head(5))"
      ],
      "execution_count": 9,
      "outputs": [
        {
          "output_type": "stream",
          "text": [
            "       size       size_n2      size_log     time\n",
            "0  37837612  1.431685e+15  9.524982e+08  4.12166\n",
            "1  37395246  1.398404e+15  9.407280e+08  3.92089\n",
            "2  36610827  1.340353e+15  9.198751e+08  3.21540\n",
            "3  29555651  8.735365e+14  7.334805e+08  2.54506\n",
            "4  25928216  6.722724e+14  6.385606e+08  2.21831\n"
          ],
          "name": "stdout"
        }
      ]
    },
    {
      "cell_type": "markdown",
      "metadata": {
        "id": "gWpLs4oEtwyK",
        "colab_type": "text"
      },
      "source": [
        "hiển thị các điểm dữ liệu chỉ vói biến size"
      ]
    },
    {
      "cell_type": "code",
      "metadata": {
        "id": "h7Q-S6DlqeuK",
        "colab_type": "code",
        "colab": {
          "base_uri": "https://localhost:8080/",
          "height": 278
        },
        "outputId": "2b998291-d698-45ba-b808-84a7f08fc5f8"
      },
      "source": [
        "plt.plot(size, labels, \"go\");\n",
        "plt.show()"
      ],
      "execution_count": 12,
      "outputs": [
        {
          "output_type": "display_data",
          "data": {
            "image/png": "[encoded data removed]",
            "text/plain": [
              "<Figure size 432x288 with 1 Axes>"
            ]
          },
          "metadata": {
            "tags": [],
            "needs_background": "light"
          }
        }
      ]
    },
    {
      "cell_type": "markdown",
      "metadata": {
        "id": "g9MJmmVDukJ1",
        "colab_type": "text"
      },
      "source": [
        "Nhận thấy xuất hiện các điểm dữ liệu nhiễu nhơn dataset ban đầu"
      ]
    },
    {
      "cell_type": "markdown",
      "metadata": {
        "id": "GD7XFtLkIUh1",
        "colab_type": "text"
      },
      "source": [
        "Chia dữ liệu train-test 80-20"
      ]
    },
    {
      "cell_type": "code",
      "metadata": {
        "id": "R3MfhXaYGnOb",
        "colab_type": "code",
        "outputId": "3e83a62e-3eed-41a7-c854-20c7731dd5c3",
        "colab": {
          "base_uri": "https://localhost:8080/",
          "height": 106
        }
      },
      "source": [
        "# split train-test set\n",
        "X_train, X_test, y_train, y_test = train_test_split(data, labels, test_size=0.2, random_state=0)\n",
        "print(X_test[:5])"
      ],
      "execution_count": 13,
      "outputs": [
        {
          "output_type": "stream",
          "text": [
            "[[3.90274990e+07 1.52314568e+15 9.84194989e+08]\n",
            " [2.67671810e+07 7.16481979e+14 6.60452403e+08]\n",
            " [3.67649930e+07 1.35166471e+15 9.23971531e+08]\n",
            " [2.92873050e+07 8.57746234e+14 7.26435639e+08]\n",
            " [3.43621860e+07 1.18075983e+15 8.60233908e+08]]\n"
          ],
          "name": "stdout"
        }
      ]
    },
    {
      "cell_type": "markdown",
      "metadata": {
        "id": "DKMBvmUaId7b",
        "colab_type": "text"
      },
      "source": [
        "Huấn luyện"
      ]
    },
    {
      "cell_type": "code",
      "metadata": {
        "id": "5RR3PJOyHfKb",
        "colab_type": "code",
        "outputId": "fb69e17c-86c6-4d15-92e1-75743d34f2c5",
        "colab": {
          "base_uri": "https://localhost:8080/",
          "height": 35
        }
      },
      "source": [
        "# choose model Linearn Regression\n",
        "lire = LinearRegression()\n",
        "lire.fit(X_train, y_train)"
      ],
      "execution_count": 14,
      "outputs": [
        {
          "output_type": "execute_result",
          "data": {
            "text/plain": [
              "LinearRegression(copy_X=True, fit_intercept=True, n_jobs=None, normalize=False)"
            ]
          },
          "metadata": {
            "tags": []
          },
          "execution_count": 14
        }
      ]
    },
    {
      "cell_type": "markdown",
      "metadata": {
        "id": "DqMKdHC-Ii19",
        "colab_type": "text"
      },
      "source": [
        "Thực hiện dự đoán"
      ]
    },
    {
      "cell_type": "code",
      "metadata": {
        "id": "hFpLz-riHhoK",
        "colab_type": "code",
        "outputId": "f83f98f9-965e-4f55-bfbc-08c9828e9168",
        "colab": {
          "base_uri": "https://localhost:8080/",
          "height": 52
        }
      },
      "source": [
        "# Predict time\n",
        "y_pred = lire.predict(X_test)\n",
        "print('weight: ', lire.coef_)\n",
        "print('bias: ',lire.intercept_)"
      ],
      "execution_count": 15,
      "outputs": [
        {
          "output_type": "stream",
          "text": [
            "weight:  [ 6.48629771e-07  6.67355823e-16 -2.26893927e-08]\n",
            "bias:  -0.5125548242929181\n"
          ],
          "name": "stdout"
        }
      ]
    },
    {
      "cell_type": "markdown",
      "metadata": {
        "id": "j9j9LFxWIm91",
        "colab_type": "text"
      },
      "source": [
        "Đánh giá model"
      ]
    },
    {
      "cell_type": "code",
      "metadata": {
        "id": "CcA0EgETHkML",
        "colab_type": "code",
        "outputId": "a7b4ec9b-7ce2-4c60-c925-6c400882b297",
        "colab": {
          "base_uri": "https://localhost:8080/",
          "height": 52
        }
      },
      "source": [
        "# Print test error\n",
        "print('Mean squared error: %f' % mean_squared_error(y_test, y_pred))\n",
        "# The coefficient of determination: 1 is perfect prediction\n",
        "print('Coefficient of determination: %f' % r2_score(y_test, y_pred))"
      ],
      "execution_count": 16,
      "outputs": [
        {
          "output_type": "stream",
          "text": [
            "Mean squared error: 0.002978\n",
            "Coefficient of determination: 0.989765\n"
          ],
          "name": "stdout"
        }
      ]
    },
    {
      "cell_type": "code",
      "metadata": {
        "id": "4gzepSF7uU4V",
        "colab_type": "code",
        "colab": {
          "base_uri": "https://localhost:8080/",
          "height": 35
        },
        "outputId": "87ce0add-0fd6-417f-e0fb-b3ad8aef87e6"
      },
      "source": [
        "sum = 0\n",
        "for i in y_test:\n",
        "  sum = sum + i\n",
        "print(sum/len(y_test))"
      ],
      "execution_count": 17,
      "outputs": [
        {
          "output_type": "stream",
          "text": [
            "2.630421501416432\n"
          ],
          "name": "stdout"
        }
      ]
    },
    {
      "cell_type": "code",
      "metadata": {
        "id": "-KWRlYexHnlz",
        "colab_type": "code",
        "outputId": "e0438e22-cb9e-4356-a843-34d05fb71ecf",
        "colab": {
          "base_uri": "https://localhost:8080/",
          "height": 295
        }
      },
      "source": [
        "# Visualize pred vs true-labels\n",
        "plt.plot(np.arange(0, 100), y_pred[:100], 'r^', np.arange(0, 100), y_test[:100], 'go')\n",
        "plt.title('Visualize predicts and true labels')\n",
        "plt.xlabel('X label')\n",
        "plt.ylabel('Y label')\n",
        "plt.show()"
      ],
      "execution_count": 0,
      "outputs": [
        {
          "output_type": "display_data",
          "data": {
            "image/png": "[encoded data removed]",
            "text/plain": [
              "<Figure size 432x288 with 1 Axes>"
            ]
          },
          "metadata": {
            "tags": [],
            "needs_background": "light"
          }
        }
      ]
    }
  ]
}
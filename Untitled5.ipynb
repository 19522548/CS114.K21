{
  "nbformat": 4,
  "nbformat_minor": 0,
  "metadata": {
    "colab": {
      "name": "Untitled5.ipynb",
      "provenance": [],
      "authorship_tag": "ABX9TyPEPaCUouloHki0nmJHjOBC",
      "include_colab_link": true
    },
    "kernelspec": {
      "name": "python3",
      "display_name": "Python 3"
    }
  },
  "cells": [
    {
      "cell_type": "markdown",
      "metadata": {
        "id": "view-in-github",
        "colab_type": "text"
      },
      "source": [
        "<a href=\"https://colab.research.google.com/github/tuananh11052000/CS114.K21/blob/master/Untitled5.ipynb\" target=\"_parent\"><img src=\"https://colab.research.google.com/assets/colab-badge.svg\" alt=\"Open In Colab\"/></a>"
      ]
    },
    {
      "cell_type": "code",
      "metadata": {
        "id": "2RvjkBq_2T6E",
        "colab_type": "code",
        "colab": {}
      },
      "source": [
        "def predict(X, Theta):\n",
        "  return X@Theta"
      ],
      "execution_count": 0,
      "outputs": []
    },
    {
      "cell_type": "code",
      "metadata": {
        "id": "_rQo3uCS2yAy",
        "colab_type": "code",
        "colab": {}
      },
      "source": [
        "def computeCost_Vec(X,y,Theta):\n",
        "\terror = predict(X,Theta) - y\n",
        "\tm = np.size(y)\n",
        "\tJ = (1/(2*m))*np.transpose(error)@error\n",
        "\treturn J"
      ],
      "execution_count": 0,
      "outputs": []
    },
    {
      "cell_type": "code",
      "metadata": {
        "id": "MWQQxgk722st",
        "colab_type": "code",
        "colab": {}
      },
      "source": [
        "def computeCost(X,y,Theta):\n",
        "\tpredicted = predict(X, Theta)\n",
        "\tsqr_error = (predicted - y)**2\n",
        "\tsum_error = np.sum(sqr_error)\n",
        "\tm = np.size(y)\n",
        "\tJ = (1/(2*m))*sum_error\n",
        "\treturn J"
      ],
      "execution_count": 0,
      "outputs": []
    },
    {
      "cell_type": "code",
      "metadata": {
        "id": "XD7oby6A3rUG",
        "colab_type": "code",
        "colab": {}
      },
      "source": [
        "def GradientDescent(X,y,alpha=0.02,iter=5000):\n",
        "  #Giá trị ban đầu của theta = 0\n",
        "  theta = np.zeros(np.size(X,1)) #số lượng theta bằng số cột của X\n",
        "  #array lưu lại các giá trị J trong quá trình lặp\n",
        "  J_hist = np.zeros((iter,2)) # kích thước là iter*2, cột đầu chỉ là các số từ 1 đến iter để tiện cho việc plot. Kích thước được truyền vào qua một tupple\n",
        "  #kích thước của training set\n",
        "  m = np.size(y)\n",
        "  #ma trận ngược (đảo hàng và cột) của X\n",
        "  X_T = np.transpose(X)\n",
        "  #biến tạm để kiểm tra tiến độ Gradient Descent\n",
        "  pre_cost = computeCost(X,y,theta)\n",
        "  for i in range(0,iter):\n",
        "    #tính sai số (predict – y)\n",
        "    error = predict(X,theta) - y\n",
        "    #thực hiện gradient descent để thay đổi theta\n",
        "    theta = theta - (alpha/m)*(X_T @ error)\n",
        "    #tính J hiện tại\n",
        "    cost = computeCost(X,y,theta)\n",
        "    #so sánh với J của vòng lặp trước, so sánh 15 chữ số thập phân\n",
        "    if np.round(cost,15) == np.round(pre_cost,15):\n",
        "        #in ra vòng lặp hiện tại và J để dễ debug\n",
        "        print('Reach optima at I = %d ; J = %.6f'%(i,cost))\n",
        "        #thoát vòng lặp\n",
        "        break\n",
        "    #cập nhật pre_cost\n",
        "    pre_cost = cost\n",
        "  yield theta\n",
        "  yield J_hist"
      ],
      "execution_count": 0,
      "outputs": []
    },
    {
      "cell_type": "code",
      "metadata": {
        "id": "hJxvjBex3TP0",
        "colab_type": "code",
        "colab": {
          "base_uri": "https://localhost:8080/",
          "height": 361
        },
        "outputId": "c089a975-097d-49eb-a3bf-1816050372fb"
      },
      "source": [
        "import numpy as np  \n",
        "import matplotlib.pyplot as plt #thư viện vẽ biểu đồ\n",
        "#import toàn bộ file data.txt\n",
        "raw = np.loadtxt('data.txt', delimiter = ',')\n",
        "#Tách lấy X\n",
        "X = np.copy(raw)\n",
        "X[:,1] = X[:,0]\n",
        "#thêm bias 1\n",
        "X[:,0] = 1\n",
        "#Tách lấy y\n",
        "y = raw[:,1]\n",
        "#Train data\n",
        "[Theta, J_hist] = GradientDescent(X,y)#mặc định alpha = 0.02 iter = 5000\n",
        "#Predict\n",
        "predict = predict(X,Theta) * 10000#chuyển về đơn vị người\n",
        "#Plot kết quả\n",
        "plt.figure(1)\n",
        "plt.plot(X[:,1],y,'rx')\n",
        "plt.plot(X[:,1],predict/10000,'-b') #đơn vị gốc: nghìn người\n",
        "plt.show()#nếu bạn muốn vẽ thêm biểu đồ J(θ), hàm show được gọi sau khi vẽ biểu đồ J(θ)"
      ],
      "execution_count": 20,
      "outputs": [
        {
          "output_type": "stream",
          "text": [
            "Reach optima at I = 16 ; J = inf\n"
          ],
          "name": "stdout"
        },
        {
          "output_type": "stream",
          "text": [
            "/usr/local/lib/python3.6/dist-packages/numpy/core/fromnumeric.py:61: RuntimeWarning: overflow encountered in multiply\n",
            "  return bound(*args, **kwds)\n",
            "/usr/local/lib/python3.6/dist-packages/ipykernel_launcher.py:3: RuntimeWarning: overflow encountered in square\n",
            "  This is separate from the ipykernel package so we can avoid doing imports until\n"
          ],
          "name": "stderr"
        },
        {
          "output_type": "display_data",
          "data": {
            "image/png": "[encoded data removed]",
            "text/plain": [
              "<Figure size 432x288 with 1 Axes>"
            ]
          },
          "metadata": {
            "tags": []
          }
        }
      ]
    }
  ]
}
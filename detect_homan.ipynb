{
  "nbformat": 4,
  "nbformat_minor": 0,
  "metadata": {
    "colab": {
      "name": "detect_homan.ipynb",
      "provenance": [],
      "authorship_tag": "ABX9TyPA3tBf+jUM38b7dyV7+zan",
      "include_colab_link": true
    },
    "kernelspec": {
      "name": "python3",
      "display_name": "Python 3"
    }
  },
  "cells": [
    {
      "cell_type": "markdown",
      "metadata": {
        "id": "view-in-github",
        "colab_type": "text"
      },
      "source": [
        "<a href=\"https://colab.research.google.com/github/tuananh11052000/CS114.K21/blob/master/detect_homan.ipynb\" target=\"_parent\"><img src=\"https://colab.research.google.com/assets/colab-badge.svg\" alt=\"Open In Colab\"/></a>"
      ]
    },
    {
      "cell_type": "code",
      "metadata": {
        "id": "fI9j9yjALH0E",
        "colab_type": "code",
        "colab": {
          "base_uri": "https://localhost:8080/",
          "height": 126
        },
        "outputId": "1ad76e98-9687-4a2a-ae35-d8656ca40611"
      },
      "source": [
        "from google.colab import drive\n",
        "drive.mount('/content/drive')"
      ],
      "execution_count": 1,
      "outputs": [
        {
          "output_type": "stream",
          "text": [
            "Go to this URL in a browser: https://accounts.google.com/o/oauth2/auth?client_id=947318989803-6bn6qk8qdgf4n4g3pfee6491hc0brc4i.apps.googleusercontent.com&redirect_uri=urn%3aietf%3awg%3aoauth%3a2.0%3aoob&response_type=code&scope=email%20https%3a%2f%2fwww.googleapis.com%2fauth%2fdocs.test%20https%3a%2f%2fwww.googleapis.com%2fauth%2fdrive%20https%3a%2f%2fwww.googleapis.com%2fauth%2fdrive.photos.readonly%20https%3a%2f%2fwww.googleapis.com%2fauth%2fpeopleapi.readonly\n",
            "\n",
            "Enter your authorization code:\n",
            "··········\n",
            "Mounted at /content/drive\n"
          ],
          "name": "stdout"
        }
      ]
    },
    {
      "cell_type": "code",
      "metadata": {
        "id": "964lfWZ5SDsr",
        "colab_type": "code",
        "colab": {}
      },
      "source": [
        "import glob\n",
        "import cv2\n",
        "import numpy as np\n",
        "import os\n",
        "import random\n",
        "import skimage\n",
        "from skimage import feature\n",
        "from sklearn.svm import SVC\n",
        "from sklearn.model_selection import train_test_split"
      ],
      "execution_count": 0,
      "outputs": []
    },
    {
      "cell_type": "code",
      "metadata": {
        "id": "p-xX6upASqsU",
        "colab_type": "code",
        "colab": {}
      },
      "source": [
        "class HOG:\n",
        "    def __init__(self, orientations=12, pixelsPerCell=(4, 4), cellsPerBlock=(2, 2), normalize=True):\n",
        "        # store the number of orientations, pixels per cell, cells per block, and\n",
        "        # whether normalization should be applied to the image\n",
        "        self.orientations = orientations\n",
        "        self.pixelsPerCell = pixelsPerCell\n",
        "        self.cellsPerBlock = cellsPerBlock\n",
        "        self.normalize = normalize\n",
        "\n",
        "    def describe(self, image):\n",
        "        # compute Histogram of Oriented Gradients features for scikit-image < 0.13\n",
        "        if int(skimage.__version__.split(\".\")[1]) < 13:\n",
        "            \n",
        "            hist = feature.hog(image, orientations=self.orientations, pixels_per_cell=self.pixelsPerCell,\n",
        "                               cells_per_block=self.cellsPerBlock, transform_sqrt=self.normalize)\n",
        "\n",
        "        # otherwise comput Histogram of Oriented Gradients features for scikit-image >= 0.13\n",
        "        else:\n",
        "            hist = feature.hog(image, orientations=self.orientations, pixels_per_cell=self.pixelsPerCell,\n",
        "                               cells_per_block=self.cellsPerBlock, transform_sqrt=self.normalize, block_norm=\"L1\")\n",
        "\n",
        "        hist[hist < 0] = 0\n",
        "\n",
        "        # return the histogram\n",
        "        return hist"
      ],
      "execution_count": 0,
      "outputs": []
    },
    {
      "cell_type": "code",
      "metadata": {
        "id": "AdLjzKf0Mnvq",
        "colab_type": "code",
        "colab": {}
      },
      "source": [
        "datasetPaths = []\n",
        "labels = []\n",
        "data = []\n",
        "for linkimage in glob.iglob('/content/drive/My Drive/Colab Notebooks/CUOI KY/*/*.png', recursive=True):\n",
        "    datasetPaths.append(linkimage);\n",
        "    # print(linkimage.split(os.path.sep)[-2])\n",
        "random.shuffle(datasetPaths)\n",
        "for path in datasetPaths:\n",
        "  labels.append(path.split(os.path.sep)[-2])\n",
        "  data.append(cv2.imread(path, cv2.IMREAD_GRAYSCALE))"
      ],
      "execution_count": 0,
      "outputs": []
    },
    {
      "cell_type": "code",
      "metadata": {
        "id": "IzkMBE48p0HD",
        "colab_type": "code",
        "colab": {}
      },
      "source": [
        "from sklearn import preprocessing\n",
        "le = preprocessing.LabelEncoder()\n",
        "le.fit(labels)\n",
        "le.classes_\n",
        "lb = le.transform(labels)"
      ],
      "execution_count": 0,
      "outputs": []
    },
    {
      "cell_type": "code",
      "metadata": {
        "id": "Bk-kJHx2kB_r",
        "colab_type": "code",
        "colab": {}
      },
      "source": [
        "features = []\n",
        "hog = HOG(orientations=12, pixelsPerCell=(4, 4), cellsPerBlock=(2, 2), normalize=True)\n",
        "for img in data:\n",
        "  features.append(hog.describe(img))"
      ],
      "execution_count": 0,
      "outputs": []
    },
    {
      "cell_type": "code",
      "metadata": {
        "id": "RQCoUVSxnZZz",
        "colab_type": "code",
        "colab": {}
      },
      "source": [
        "x_train, x_test, y_train, y_test = train_test_split(data, lb, test_size=0.25)"
      ],
      "execution_count": 0,
      "outputs": []
    },
    {
      "cell_type": "code",
      "metadata": {
        "id": "vCi_qaqfrcUa",
        "colab_type": "code",
        "colab": {
          "base_uri": "https://localhost:8080/",
          "height": 35
        },
        "outputId": "7d7bfacc-cc0e-4425-a9c2-2d60c34b1e8c"
      },
      "source": [
        "print(np.shape(x_train))"
      ],
      "execution_count": 69,
      "outputs": [
        {
          "output_type": "stream",
          "text": [
            "(1666, 130, 66)\n"
          ],
          "name": "stdout"
        }
      ]
    },
    {
      "cell_type": "code",
      "metadata": {
        "id": "5hxmuDNur218",
        "colab_type": "code",
        "colab": {
          "base_uri": "https://localhost:8080/",
          "height": 35
        },
        "outputId": "0e916890-cff5-4587-cf63-1b5a66137ef0"
      },
      "source": [
        "# x_train = np.array(x_train)\n",
        "print(np.shape(x_train))\n",
        "train = np.reshape(x_train, (1666, 8580))\n",
        "test = np.reshape(x_test, (556, 8580))"
      ],
      "execution_count": 83,
      "outputs": [
        {
          "output_type": "stream",
          "text": [
            "(1666, 130, 66)\n"
          ],
          "name": "stdout"
        }
      ]
    },
    {
      "cell_type": "code",
      "metadata": {
        "id": "cRsECp_RosuR",
        "colab_type": "code",
        "colab": {
          "base_uri": "https://localhost:8080/",
          "height": 88
        },
        "outputId": "ca9275f3-afd4-401d-f5c0-c340a080ea9a"
      },
      "source": [
        "model = SVC(kernel=\"linear\", C=0.01, probability=False, random_state=42)\n",
        "model.fit(train, y_train)"
      ],
      "execution_count": 85,
      "outputs": [
        {
          "output_type": "execute_result",
          "data": {
            "text/plain": [
              "SVC(C=0.01, break_ties=False, cache_size=200, class_weight=None, coef0=0.0,\n",
              "    decision_function_shape='ovr', degree=3, gamma='scale', kernel='linear',\n",
              "    max_iter=-1, probability=False, random_state=42, shrinking=True, tol=0.001,\n",
              "    verbose=False)"
            ]
          },
          "metadata": {
            "tags": []
          },
          "execution_count": 85
        }
      ]
    },
    {
      "cell_type": "code",
      "metadata": {
        "id": "G-KQIjhivkEQ",
        "colab_type": "code",
        "colab": {
          "base_uri": "https://localhost:8080/",
          "height": 35
        },
        "outputId": "ee764e58-7e09-420e-ab88-54ce0b88c04e"
      },
      "source": [
        "from sklearn.metrics import accuracy_score\n",
        "\n",
        "pred = model.predict(test)\n",
        "print('acc: ', accuracy_score(pred, y_test))"
      ],
      "execution_count": 89,
      "outputs": [
        {
          "output_type": "stream",
          "text": [
            "acc:  0.9226618705035972\n"
          ],
          "name": "stdout"
        }
      ]
    }
  ]
}